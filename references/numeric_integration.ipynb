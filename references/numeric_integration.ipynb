{
 "cells": [
  {
   "cell_type": "code",
   "execution_count": 49,
   "metadata": {},
   "outputs": [],
   "source": [
    "import numpy as np\n",
    "from scipy.stats import norm\n",
    "import matplotlib.pyplot as plt"
   ]
  },
  {
   "cell_type": "markdown",
   "metadata": {},
   "source": [
    "### Estimation of $P_{nd_n}(V_{nt})$\n",
    "We will start by estimation conditional probability of agent $n$ choosing \n",
    "sequence of choices $ d_n = (d_{n1}, \\dots, d_{nT}) \\in \\{-1, 1\\}^{T}$. \n",
    "Agent choose $d_n$ if \n",
    "$$d_{nt}U_{nt} = d_{nt}(\\beta'_{n}x_{nt} +\\eta_n + \\varepsilon_{nt}) = d_{nt}(V_{nt} +\\eta_n + \\varepsilon_{nt})  > 0 \\quad \\forall t\n",
    "$$\n",
    "Since we will assume taste variation, it means that $\\beta_n$ is random. For \n",
    "simplicity lets estimate conditional probability of agent $n$ choosing\n",
    "sequence of action $d_{n}$ given both $\\beta_n$ and $\\eta_n$"
   ]
  },
  {
   "cell_type": "markdown",
   "metadata": {},
   "source": [
    "We will estimate the following:\n",
    "$$P_{nd_n}(V_{nt}) = \\int_{\\mathbb{R}}  \\underbrace{\\prod_{t=1}^{T}\\Phi((V_{nt} + \\eta_n)d_{nt})}_{H_{nd_n}(V_{nt}, \\eta_n)} \\phi(\\eta_n)d\\eta_n$$\n",
    "using trains procedure:\n",
    "\n",
    "\n",
    "1. Take a draw from a normal density with zero mean and $ \\sigma $ variance.\n",
    "2. For this draw of $ \\eta_n $, calculate $ H_{nd_n}(\\eta_n) $ .\n",
    "3. Repeat steps 1–2 many times, and average the results.\n",
    "      This average is a simulated approximation to $ P_{nd_n} $ .\n",
    "\n"
   ]
  },
  {
   "cell_type": "code",
   "execution_count": 50,
   "metadata": {},
   "outputs": [
    {
     "data": {
      "image/png": "[encoded data removed]",
      "text/plain": [
       "<Figure size 432x288 with 1 Axes>"
      ]
     },
     "metadata": {
      "needs_background": "light"
     },
     "output_type": "display_data"
    }
   ],
   "source": [
    "def H(eta, V_n, d_n):\n",
    "    return np.prod(norm.cdf((V_n + eta) * d_n), axis=1)\n",
    "\n",
    "\n",
    "# we will fix amount of periods for each agent `n`\n",
    "T = 5\n",
    "# sigma will be estimated with SMLE\n",
    "sigma = 1\n",
    "# V_n is a combination of betas, which will\n",
    "# be estimated from SMLE and fixed data\n",
    "V_n = np.array([-1, 0, 1, 2, 3])\n",
    "# d_n is from fixed data (y = 1 or y = 0)\n",
    "d_n = np.array([-1, -1, 1, 1, 1])\n",
    "\n",
    "# number of simulations to estimate integral\n",
    "simulation_size = 10_000\n",
    "# step 1\n",
    "simulated_etas = np.random.normal(\n",
    "    loc=0,\n",
    "    scale=sigma,  # important\n",
    "    size=(simulation_size, 1)\n",
    ")\n",
    "# stack simulated normal r.v to perform broadcasting\n",
    "simulated_etas = np.repeat(simulated_etas, 5, axis=1)\n",
    "# step 2. obtain distribution of function values\n",
    "result = H(simulated_etas, V_n, d_n)\n",
    "\n",
    "plt.hist(result);"
   ]
  },
  {
   "cell_type": "markdown",
   "metadata": {},
   "source": [
    "### Simulation of $V_n$\n",
    "\n",
    "Denote $V_n = (V_{n1}, \\dots, V_{nT})$, where $ V_{nt} = \\beta_n' x_{nt}$ and \n",
    "$$\\beta_n \\sim \\mathcal{N}(\\pmb{b}, \\pmb{\\Sigma})$$\n",
    "and data is a vector of $n$'s agent attributes and choice characteristics:\n",
    "$x_{nt} = (x_{nt1}, x_{nt2}, \\dots, x_{ntk})'$\n",
    "\n",
    "therefore $\\beta_n=(\\beta_{n1}, \\beta_{n2}, \\dots, \\beta_{nk})$ - a random vector\n",
    "and linear part of utility can be rewritten as:\n",
    "$$\n",
    "V_{nt} = \\beta_n' x_{nt} = \\sum_{i=1}^{k}\\beta_{nk}x_{ntk}\n",
    "$$\n",
    "To incorporate taste variation in our model, we begin with constructing the\n",
    "following conditional on $\\beta_n$ probabiliy of choosing sequence $d_{n}$ of\n",
    "choices:\n",
    "$$\n",
    "P_{nd_n}(\\beta_{n}) = \\int_{\\mathbb{R}}  \\underbrace{\\prod_{t=1}^{T}\\Phi((\\beta_n'x_{nt} + \\eta_n)d_{nt})}_{H_{nd_n}(\\beta_n, \\eta_n)} \\phi_{\\sigma}(\\eta_n)d\\eta_n\n",
    "$$\n",
    "where $\\phi_{\\sigma}(\\eta_n)$ is normal pdf with variance $\\sigma$.\n",
    "Unconditional probability is then:\n",
    "$$\n",
    "\\begin{align*}\n",
    "P_{nd_n} = \\int_{\\mathbb{R^k}} P_{nd_n}(\\beta_{n}) \\phi_{\\Sigma}(\\beta_{n})d\\beta_{n} &=\n",
    "\\int_{\\mathbb{R^k}}\\left(\\int_{\\mathbb{R}} H_{nd_n}(\\beta_n, \\eta_n)\\phi_{\\sigma}(\\eta_n)d\\eta_n \\right) \\phi_{\\Sigma}(\\beta_{n})d\\beta_{n} \\\\\n",
    "&=\\int_{\\mathbb{R^k}}\\left(\\int_{\\mathbb{R}}  \\underbrace{\\prod_{t=1}^{T}\\Phi((\\beta_n'x_{nt} + \\eta_n)d_{nt})}_{H_{nd_n}(\\eta_n)} \\phi_{\\sigma}(\\eta_n)d\\eta_n \\right)\\phi_{\\Sigma}(\\beta_{n})d\\beta_{n}\n",
    "\\end{align*}\n",
    "$$\n",
    "where $\\phi_{\\Sigma}(\\beta_n)$ is joint normal pdf with covariance matrix $\\Sigma$"
   ]
  },
  {
   "cell_type": "markdown",
   "metadata": {},
   "source": [
    "So estimation algorithm will be the following:\n",
    "1. Initialize values of $\\sigma$, $\\Sigma$, b with random values\n",
    "2. Use values from previos point to draw $N = 10000$ samples from $\\phi_{\\Sigma}(\\beta_n)$ \n",
    "3. For each sample $k$ in $N$ draw $N_k = 10000$ samples from $\\phi_{\\sigma}(\\eta_n)$\n",
    "4. For each sample $k$ simulate $\\bar{P}_{nd_n} (\\beta_n)$ \n",
    "5. Average across $k$ to obtain $\\hat{P}_{nd_n} (\\beta_n)$ \n",
    "6. For each sample $n$ simulate unconditional $\\bar{P}_{nd_n}$, using \n",
    "data from previous point.\n",
    "7. Average across $n$\n",
    "\n",
    "todo: repeat for all agents\n",
    "update params with SMLE and repeat again\n",
    "\n",
    "\n",
    "\n",
    "\n"
   ]
  }
 ],
 "metadata": {
  "kernelspec": {
   "display_name": "Python 3.8.10 64-bit",
   "language": "python",
   "name": "python3"
  },
  "language_info": {
   "codemirror_mode": {
    "name": "ipython",
    "version": 3
   },
   "file_extension": ".py",
   "mimetype": "text/x-python",
   "name": "python",
   "nbconvert_exporter": "python",
   "pygments_lexer": "ipython3",
   "version": "3.8.10"
  },
  "orig_nbformat": 4,
  "vscode": {
   "interpreter": {
    "hash": "082e9a3bcad0a290d0001e938aa60b99250c6c2ef33a923c00b70f9826caf4b7"
   }
  }
 },
 "nbformat": 4,
 "nbformat_minor": 2
}
