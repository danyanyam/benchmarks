{
 "cells": [
  {
   "cell_type": "markdown",
   "id": "5f4af95d",
   "metadata": {},
   "source": [
    "### Setting"
   ]
  },
  {
   "cell_type": "markdown",
   "id": "ff56b742",
   "metadata": {},
   "source": [
    "Choice between $ j \\in {0, 1}$ alternatives in choice situations $t = 1, \\dots, T$. Utility of person $n$ by choosing alternative $j$ in period $t$ is \n",
    "$$ U_{njt} = \\beta'_{n}x_{njt} + \\varepsilon_{njt} $$\n",
    "where $\\varepsilon_{njt}$ is iid probit values, and $\\beta_n \\sim g(\\beta|\\theta)$ in the population. Choice inputs for all alternatives and choice situations can be described as $x_{n} = (x_{n11}, \\dots, x_{n1T}, x_{n01}, \\dots x_{n0T})$. \n",
    "\n",
    "Let us know the random value of tastes, then:\n",
    "\n",
    "$$\n",
    "P(y_n | x_n, \\beta) = \\prod_{t=1}^T P(y_{nt}| x_{ny_{nt}t}, \\beta)\n",
    "$$"
   ]
  },
  {
   "cell_type": "markdown",
   "id": "31b5f945",
   "metadata": {},
   "source": [
    "Person takes action if $U_{nt} = \\beta_{n}'x_{nt}+\\varepsilon_{nt} >0$.\n",
    "Then it follows:\n",
    "$$ \n",
    "P(U_{nt} > 0) = P (\\beta_{n}'x_{nt}+\\varepsilon_{nt} >0) = P (\\varepsilon_{nt}> - \\beta_{n}'x_{nt})\n",
    "$$\n",
    "Lets again denote $\\tilde\\beta_n = \\beta_n - b$, then it follows that:\n",
    "$$\n",
    "P(U_{nt} > 0) = P (\\beta_{n}'x_{nt}+\\varepsilon_{nt} >0) = P (b'x_{nt}+ \\underbrace{\\tilde\\beta'_n x_{nt} + \\varepsilon_{nt}}_{\\eta_{nt}} >0) = P(\\eta_{nt} > - b'x_{nt})\n",
    "$$\n",
    "where $\\eta_{nt}$ has normal distribution with zero mean and some covariance matrix. What is the covariance matrix? Generally, without any restrictions:\n",
    "$$\n",
    "\\begin{aligned}\n",
    "\\text{Cov}(\\eta_{nt}, \\eta_{ns}) = \\text{Cov}\\left( \\tilde\\beta_n' x_{nt} + \\varepsilon_{nt}, \\tilde\\beta_n'x_{nj} + \\varepsilon_{nj}\\right) &= \n",
    "\\text{Cov}(\\tilde\\beta_n' x_{nt}, \\tilde\\beta_n'x_{nj}) +\n",
    "\\text{Cov}(\\tilde\\beta_n' x_{nt}, \\varepsilon_{nj}) + \n",
    "\\text{Cov}(\\varepsilon_{nt}, \\tilde\\beta_n'x_{nj}) + \n",
    "\\text{Cov}(\\varepsilon_{nt}, \\varepsilon_{nj}) \\\\\n",
    "&= \\text{Cov}(\\tilde\\beta_n' x_{nt}, \\tilde\\beta_n'x_{nj}) +\n",
    "\\sigma_{\\varepsilon_{nt}, \\varepsilon_{nj}}\\\\\n",
    "&= \\mathbb{E}[\\beta'_n x_{nt}x_{nj}'\\beta_{n}] - b'x_{nt}x_{nj}b +\n",
    "\\sigma_{\\varepsilon_{nt}, \\varepsilon_{nj}}\n",
    "\\end{aligned}\n",
    "$$"
   ]
  },
  {
   "cell_type": "markdown",
   "id": "3c24bb22",
   "metadata": {},
   "source": [
    "Or in matrix notation it is:\n",
    "$$\n",
    "\\Sigma = \n",
    "\\begin{pmatrix}\n",
    "\\mathbb{E}[\\beta'_n x_{n1}x_{n1}'\\beta_{n}] - b'x_{n1}x_{n1}'b +\n",
    "\\sigma_{\\varepsilon_{n1}, \\varepsilon_{n1}} &\\dots& \\mathbb{E}[\\beta'_n x_{n1}x_{nT}'\\beta_{n}] - b'x_{n1}x_{nT}'b +\n",
    "\\sigma_{\\varepsilon_{n1}, \\varepsilon_{nT}} \\\\\n",
    "\\vdots & \\dots & \\vdots \\\\ \n",
    "\\mathbb{E}[\\beta'_n x_{nT}x_{n1}'\\beta_{n}] - b'x_{nT}x_{n1}'b +\n",
    "\\sigma_{\\varepsilon_{nT}, \\varepsilon_{n1}} &\\dots& \\mathbb{E}[\\beta'_n x_{nT}x_{nT}'\\beta_{n}] - b'x_{nT}x_{nT}'b +\n",
    "\\sigma_{\\varepsilon_{nT}, \\varepsilon_{nT}}\n",
    "\\end{pmatrix} \\in \\mathbb{R}^{T\\times T }\n",
    "$$\n",
    "or equally:\n",
    "$$\n",
    "\\Sigma = \n",
    "\\begin{pmatrix}\n",
    "\\mathbb{E}[\\beta'_n x_{n1}x_{n1}'\\beta_{n}] - b'x_{n1}x_{n1}'b \n",
    " &\\dots& \\mathbb{E}[\\beta'_n x_{n1}x_{nT}'\\beta_{n}] - b'x_{n1}x_{nT}'b \\\\\n",
    "\\vdots & \\dots & \\vdots \\\\ \n",
    "\\mathbb{E}[\\beta'_n x_{nT}x_{n1}'\\beta_{n}] - b'x_{nT}x_{n1}'b  &\\dots& \\mathbb{E}[\\beta'_n x_{nT}x_{nT}'\\beta_{n}] - b'x_{nT}x_{nT}'b\n",
    "\\end{pmatrix} \n",
    "+\n",
    "\\begin{pmatrix}\n",
    "\\sigma_{\\varepsilon_{n1}, \\varepsilon_{n1}} &\\dots& \\sigma_{\\varepsilon_{n1}, \\varepsilon_{nT}} \\\\\n",
    "\\vdots & \\dots & \\vdots \\\\ \n",
    "\\sigma_{\\varepsilon_{nT}, \\varepsilon_{n1}} &\\dots& \n",
    "\\sigma_{\\varepsilon_{nT}, \\varepsilon_{nT}}\n",
    "\\end{pmatrix} \\in \\mathbb{R}^{T\\times T } \n",
    "$$\n",
    "\n",
    "We denote $\\Omega \\in \\mathbb{R}^{T\\times T}$ to be covariance matrix of $\\varepsilon_{n1}, \\dots, \\varepsilon_{nT}$ and it is evident from Train that some structure must be imposed on $\\Omega$."
   ]
  },
  {
   "cell_type": "markdown",
   "id": "f9cc6970",
   "metadata": {},
   "source": [
    "### Covariance time structure"
   ]
  },
  {
   "cell_type": "markdown",
   "id": "b5118dd3",
   "metadata": {},
   "source": [
    "Suppose in the binary case, for example, that the error consists of a\n",
    "portion that is specific to the decision maker, reflecting his proclivity\n",
    "to take the action, and a part that varies over time for each decision\n",
    "maker:\n",
    "$$\\varepsilon_{nt} = \\xi_{n} + \\mu_{nt}$$\n",
    "where $\\mu_{nt}$ is iid over over time and people with standart normal density and $\\xi_{n}$ is iid over people with zero mean and variance $\\sigma_{\\xi, \\xi}$. Now lets calculate variance of such error term:\n",
    "$$ \\mathbb{V}(\\varepsilon_{nt}) = \\mathbb{V}(\\xi_{n} + \\mu_{nt}) = \\mathbb{V}(\\xi_n) + \\mathbb{V}(\\mu_{nt}) = 1 + \\sigma_{\\xi, \\xi}$$\n",
    "\n",
    "Thus the covariance between errors:\n",
    "$$\n",
    "\\text{Cov}(\\varepsilon_{nt}, \\varepsilon_{ns}) = \\mathbb{E}[(\\xi_{n} + \\mu_{nt})(\\xi_{n} + \\mu_{ns})] =\n",
    "\\mathbb{E}[\\xi_{n}\\xi_{n} + \\xi_{n}\\mu_{ns} + \\mu_{nt}\\xi_{n} + \\mu_{nt}\\mu_{ns}] = \\sigma_{\\xi, \\xi}\n",
    "$$\n",
    "\n",
    "Therefore, we can rewrite covariance from the section above as:\n",
    "\n",
    "$$\n",
    "\\Sigma = \n",
    "\\begin{pmatrix}\n",
    "\\mathbb{E}[\\beta'_n x_{n1}x_{n1}'\\beta_{n}] - b'x_{n1}x_{n1}'b \n",
    " &\\dots& \\mathbb{E}[\\beta'_n x_{n1}x_{nT}'\\beta_{n}] - b'x_{n1}x_{nT}'b \\\\\n",
    "\\vdots & \\dots & \\vdots \\\\ \n",
    "\\mathbb{E}[\\beta'_n x_{nT}x_{n1}'\\beta_{n}] - b'x_{nT}x_{n1}'b  &\\dots& \\mathbb{E}[\\beta'_n x_{nT}x_{nT}'\\beta_{n}] - b'x_{nT}x_{nT}'b\n",
    "\\end{pmatrix} \n",
    "+\n",
    "\\begin{pmatrix}\n",
    "1 + \\sigma_{\\xi, \\xi} &\\dots& \\sigma_{\\xi, \\xi} \\\\\n",
    "\\vdots & \\dots & \\vdots \\\\ \n",
    "\\sigma_{\\xi, \\xi} &\\dots& \n",
    "1 + \\sigma_{\\xi, \\xi}\n",
    "\\end{pmatrix} \\in \\mathbb{R}^{T\\times T } \n",
    "$$\n",
    "\n",
    "Only one parameter, $\\sigma_{\\xi, \\xi}$, enters the covariance matrix $\\Omega$. Its value indicates\n",
    "the variance in unobserved utility across individuals (the variance of $\\xi_{n}$)\n",
    "relative to the variance across time for each individual (the variance of\n",
    "$\\mu_{nt}$). It is often called the cross-subject variance relative to the within subject variance."
   ]
  },
  {
   "cell_type": "markdown",
   "id": "b05cd683",
   "metadata": {},
   "source": [
    "### Populational parameters estimation"
   ]
  },
  {
   "cell_type": "markdown",
   "id": "fbdb1b26",
   "metadata": {},
   "source": [
    "$P(U_{nt} > 0) =P(\\eta_{nt} > - b'x_{nt})$, where\n",
    "$$\n",
    "\\eta_n \\sim \\mathcal{N} \n",
    "\\begin{pmatrix}\n",
    "\\textbf{0}_T,\n",
    "\\Sigma\n",
    "\\end{pmatrix}\n",
    "$$\n",
    "Thus likelihood function:\n",
    "$$\n",
    "\\prod_{n=1}^{N}\\prod_{t=1}^{T}P(\\eta_{nt} > - b'x_{nt})^{y_{nt}}\\left( 1 -P(\\eta_{nt} > - b'x_{nt}) \\right)^{1 - y_{nt}}\n",
    "$$\n",
    "where $P(.)$ is a cdf of $\\mathcal{N}(0_t, \\Sigma_t)$ and we maximize this function with respect to $(b, W, \\sigma_{\\xi, \\xi})$"
   ]
  }
 ],
 "metadata": {
  "kernelspec": {
   "display_name": "Python 3 (ipykernel)",
   "language": "python",
   "name": "python3"
  },
  "language_info": {
   "codemirror_mode": {
    "name": "ipython",
    "version": 3
   },
   "file_extension": ".py",
   "mimetype": "text/x-python",
   "name": "python",
   "nbconvert_exporter": "python",
   "pygments_lexer": "ipython3",
   "version": "3.9.6"
  },
  "varInspector": {
   "cols": {
    "lenName": 16,
    "lenType": 16,
    "lenVar": 40
   },
   "kernels_config": {
    "python": {
     "delete_cmd_postfix": "",
     "delete_cmd_prefix": "del ",
     "library": "var_list.py",
     "varRefreshCmd": "print(var_dic_list())"
    },
    "r": {
     "delete_cmd_postfix": ") ",
     "delete_cmd_prefix": "rm(",
     "library": "var_list.r",
     "varRefreshCmd": "cat(var_dic_list()) "
    }
   },
   "types_to_exclude": [
    "module",
    "function",
    "builtin_function_or_method",
    "instance",
    "_Feature"
   ],
   "window_display": false
  }
 },
 "nbformat": 4,
 "nbformat_minor": 5
}
