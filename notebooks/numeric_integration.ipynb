{
 "cells": [
  {
   "cell_type": "code",
   "execution_count": 1,
   "metadata": {},
   "outputs": [],
   "source": [
    "import numpy as np\n",
    "from scipy.stats import norm\n",
    "import matplotlib.pyplot as plt\n",
    "import pandas as pd\n",
    "from scipy.integrate import quad\n",
    "from scipy.optimize import minimize\n"
   ]
  },
  {
   "cell_type": "markdown",
   "metadata": {},
   "source": [
    "### Estimation of $P_{nd_n}(V_{nt})$\n",
    "We will start by estimation conditional probability of agent $n$ choosing \n",
    "sequence of choices $ d_n = (d_{n1}, \\dots, d_{nT}) \\in \\{-1, 1\\}^{T}$. \n",
    "Agent choose $d_n$ if \n",
    "$$d_{nt}U_{nt} = d_{nt}(\\beta'_{n}x_{nt} +\\eta_n + \\varepsilon_{nt}) = d_{nt}(V_{nt} +\\eta_n + \\varepsilon_{nt})  > 0 \\quad \\forall t\n",
    "$$\n",
    "Since we will assume taste variation, it means that $\\beta_n$ is random. For \n",
    "simplicity lets estimate conditional probability of agent $n$ choosing\n",
    "sequence of action $d_{n}$ given both $\\beta_n$ and $\\eta_n$"
   ]
  },
  {
   "cell_type": "markdown",
   "metadata": {},
   "source": [
    "We will estimate the following:\n",
    "$$P(d_n |V_{n}) =\\int_{\\mathbb{R}}P(d_n |V_{n}, \\eta_n) \\phi(\\eta_n)d\\eta_n= \\int_{\\mathbb{R}}  \\prod_{t=1}^{T}\\Phi((V_{nt} + \\eta_n)d_{nt}) \\phi(\\eta_n)d\\eta_n$$\n",
    "using trains procedure:\n",
    "\n",
    "\n",
    "1. Take a draw from a normal density with zero mean and $ \\sigma $ variance.\n",
    "2. For this draw of $ \\eta_n $, calculate $ H_{nd_n}(\\eta_n) $ .\n",
    "3. Repeat steps 1–2 many times, and average the results.\n",
    "      This average is a simulated approximation to $ P_{nd_n} $ .\n",
    "\n"
   ]
  },
  {
   "cell_type": "code",
   "execution_count": 2,
   "metadata": {},
   "outputs": [
    {
     "data": {
      "text/plain": [
       "(array([1250.,  758.,  657.,  650.,  737.,  709.,  759.,  882., 1074.,\n",
       "        2524.]),\n",
       " array([2.88186405e-11, 4.13827156e-02, 8.27654312e-02, 1.24148147e-01,\n",
       "        1.65530862e-01, 2.06913578e-01, 2.48296294e-01, 2.89679009e-01,\n",
       "        3.31061725e-01, 3.72444440e-01, 4.13827156e-01]),\n",
       " <BarContainer object of 10 artists>)"
      ]
     },
     "execution_count": 2,
     "metadata": {},
     "output_type": "execute_result"
    },
    {
     "data": {
      "image/png": "[encoded data removed]",
      "text/plain": [
       "<Figure size 432x288 with 1 Axes>"
      ]
     },
     "metadata": {
      "needs_background": "light"
     },
     "output_type": "display_data"
    }
   ],
   "source": [
    "def H(eta, V_n, d_n):\n",
    "    return np.prod(norm.cdf((V_n + eta) * d_n), axis=1)\n",
    "\n",
    "\n",
    "# we will fix amount of periods for each agent `n`\n",
    "T = 5\n",
    "# sigma will be estimated with SMLE\n",
    "sigma = 1\n",
    "# V_n is a combination of betas, which will\n",
    "# be estimated from SMLE and fixed data\n",
    "V_n = np.array([-1, 0, 1, 2, 3])\n",
    "# d_n is from fixed data (y = 1 or y = 0)\n",
    "d_n = np.array([-1, -1, 1, 1, 1])\n",
    "\n",
    "# number of simulations to estimate integral\n",
    "simulation_size = 10_000\n",
    "# step 1\n",
    "simulated_etas = np.random.normal(\n",
    "    loc=0,\n",
    "    scale=sigma,  # important\n",
    "    size=(simulation_size, 1)\n",
    ")\n",
    "# stack simulated normal r.v to perform broadcasting\n",
    "simulated_etas = np.repeat(simulated_etas, 5, axis=1)\n",
    "# step 2. obtain distribution of function values\n",
    "result = H(simulated_etas, V_n, d_n)\n",
    "\n",
    "plt.hist(result)\n"
   ]
  },
  {
   "cell_type": "markdown",
   "metadata": {},
   "source": [
    "### Estimation of parameters\n",
    "\n",
    "First of all we would like to derive from data estimations of the following parameters:\n",
    "$\\pmb\\Sigma$, $\\pmb{b}$, $\\sigma$, given our data $x_n = (x_{n1}, \\dots, x_{nT})$,\n",
    "sequence of choices $d_n = (d_{n1}, \\dots, d_{nT})$ and net utility structure \n",
    "$U_{nt} = \\beta' x_{nt} + \\eta_n + \\varepsilon_{nt}$, where $\\eta_n$ is iid \n",
    "across agents normal with zero-scalar mean and variance $\\sigma$ and $\\varepsilon_{nt}$\n",
    "is iid across agents and time normal with zero-vector mean and $\\pmb\\Omega$ covariance\n",
    "matrix with following form (from [probit\\_panel.pdf](probit_panel.pdf)):\n",
    "$$\n",
    "\\pmb\\Omega =\n",
    " \\begin{pmatrix*} \n",
    "1 + \\sigma & \\sigma& \\dots & \\sigma \\\\\n",
    "\\sigma & 1+\\sigma& \\dots & \\sigma \\\\\n",
    "\\sigma & \\sigma&\\dots &1 + \\sigma \\\\\n",
    "\\end{pmatrix*}\n",
    "$$"
   ]
  },
  {
   "cell_type": "markdown",
   "metadata": {},
   "source": [
    "$$\n",
    "\\begin{align*}\n",
    "    P(d_n |x_n) & = \\int_{\\mathbb{R}^k} \\left(\\int_{\\mathbb{R}}\n",
    "    P(d_n |\\eta, \\beta, x_n) \\phi_{\\sigma}(\\eta)d\\eta \\right)\n",
    "    \\phi_{\\Sigma}(\\beta)d\\beta                              \\\\\n",
    "                & =\\int_{\\mathbb{R}^k}\\left(\\int_{\\mathbb{R}}\n",
    "    \\prod_{t=1}^{T}\\Phi((\\beta'x_{nt} + \\eta)d_{nt})\n",
    "    \\phi_{\\sigma}(\\eta)d\\eta \\right)\\phi_{\\Sigma}(\\beta)\n",
    "    d\\beta\n",
    "\\end{align*}\n",
    "$$"
   ]
  },
  {
   "cell_type": "markdown",
   "metadata": {},
   "source": [
    "Then MLE for every person would be the following:\n",
    "$$\n",
    "\\begin{align*}\n",
    "    P(d |x) & = \\int_{\\mathbb{R}^k} \\left(\\int_{\\mathbb{R}}\n",
    "    P(d |\\eta, \\beta, x) \\phi_{\\sigma}(\\eta)d\\eta \\right)\n",
    "    \\phi_{\\Sigma}(\\beta)d\\beta \\\\\n",
    "   & = \\int_{\\mathbb{R}^k} \\prod_{n=1}^N\\left(\\int_{\\mathbb{R}}\n",
    "    P(d_n |\\eta, \\beta, x_n) \\phi_{\\sigma}(\\eta)d\\eta \\right)\n",
    "    \\phi_{\\Sigma}(\\beta)d\\beta \\\\\n",
    "    & = \\int_{\\mathbb{R}^k} \\prod_{n=1}^N\\left(\\int_{\\mathbb{R}} \\prod_{t=1}^T\n",
    "    P(d_{nt} |\\eta, \\beta, x_{nt}) \\phi_{\\sigma}(\\eta)d\\eta \\right)\n",
    "    \\phi_{\\Sigma}(\\beta)d\\beta \n",
    "                                 \\\\\n",
    "                & =\\int_{\\mathbb{R}^k}\\prod_{n=1}^N\\left(\\int_{\\mathbb{R}}\n",
    "    \\prod_{t=1}^{T}\\Phi((\\beta'x_{nt} + \\eta)d_{nt})\n",
    "    \\phi_{\\sigma}(\\eta)d\\eta \\right)\\phi_{\\Sigma}(\\beta)\n",
    "    d\\beta\n",
    "\\end{align*}\n",
    "$$"
   ]
  },
  {
   "cell_type": "markdown",
   "metadata": {},
   "source": [
    "### Parameters"
   ]
  },
  {
   "cell_type": "markdown",
   "metadata": {},
   "source": [
    "Then MLE for every person would be the following:\n",
    "$$\n",
    "                \\int_{\\mathbb{R}^k}\\prod_{n=1}^N\\left(\\int_{\\mathbb{R}}\n",
    "    \\prod_{t=1}^{T}\\Phi((\\beta'x_{nt} + \\eta)d_{nt})\n",
    "    \\phi_{\\sigma}(\\eta)d\\eta \\right)\\phi_{\\Sigma}(\\beta)\n",
    "    d\\beta\n",
    "$$"
   ]
  },
  {
   "cell_type": "code",
   "execution_count": 14,
   "metadata": {},
   "outputs": [],
   "source": [
    "\n",
    "def sample_from_multivariate_normal(n, beta, Sigma):\n",
    "\n",
    "    L = np.linalg.cholesky(Sigma)\n",
    "    # Sample X from standard normal\n",
    "    X = np.random.normal(size=(len(beta), n))\n",
    "    # Apply the transformation\n",
    "    return L.dot(X) + beta\n",
    "\n",
    "\n",
    "def multivariate_normal_pdf(x, mean, covariance):\n",
    "    \"\"\"pdf of the multivariate normal distribution.\"\"\"\n",
    "    x_m = x - mean\n",
    "    return (1. / (np.sqrt((2 * np.pi)**(len(beta)) * np.linalg.det(covariance))) *\n",
    "            np.exp(-(np.linalg.solve(covariance, x_m).T.dot(x_m)) / 2))\n",
    "\n",
    "\n",
    "def d_eta(eta, x_n, beta, sigma):\n",
    "    global k\n",
    "    res = norm.cdf(((x_n.iloc[:, :k] * beta.T).sum(axis=1) +\n",
    "                   eta).multiply(x_n['choice'], axis=0))\n",
    "\n",
    "    return res.prod() * norm.pdf(eta, scale=np.sqrt(sigma))\n",
    "\n",
    "\n",
    "def d_beta(beta, panel, Sigma, sigma):\n",
    "    global k\n",
    "\n",
    "    ints = []\n",
    "    for _, x_n in panel.groupby('agent'):\n",
    "        integral = quad(d_eta, -np.inf, +np.inf, args=(x_n, beta, sigma))[0]\n",
    "        ints.append(integral)\n",
    "\n",
    "    res = quad(\n",
    "        lambda x, b, covariance:\n",
    "            np.array(ints).prod() * multivariate_normal_pdf(\n",
    "                x, b, covariance\n",
    "            ),\n",
    "            -np.inf,\n",
    "            +np.inf,\n",
    "            args=(b, Sigma)\n",
    "    )[0]\n",
    "\n",
    "    print(-np.log(res), beta)\n",
    "    return res\n",
    "\n",
    "\n",
    "def generate_data(n, k, t, b, Sigma):\n",
    "    # creating panel of synthetic data\n",
    "    data = []\n",
    "\n",
    "    for n in range(n):\n",
    "\n",
    "        beta = np.random.multivariate_normal(\n",
    "            mean=b,\n",
    "            cov=Sigma,\n",
    "        ).reshape(-1, 1)\n",
    "\n",
    "        x_n = pd.DataFrame(\n",
    "            data=np.random.normal(size=(t, k)),\n",
    "            columns=[f'k{i}' for i in range(k)]\n",
    "        )\n",
    "        utility = x_n @ beta\n",
    "        x_n['agent'] = n\n",
    "        x_n['choice'] = np.where(utility > 0, 1, -1)\n",
    "        data.append(x_n)\n",
    "\n",
    "    return pd.concat(data)\n"
   ]
  },
  {
   "cell_type": "markdown",
   "metadata": {},
   "source": [
    "### Data generation"
   ]
  },
  {
   "cell_type": "code",
   "execution_count": null,
   "metadata": {},
   "outputs": [],
   "source": [
    "\n",
    "t = 5   # time periods\n",
    "k = 10  # dimensionality of features\n",
    "n = 20  # amount of agents\n",
    "\n",
    "b = np.zeros(k)\n",
    "Sigma = np.eye(k)\n",
    "sigma = 3\n",
    "\n",
    "panel = generate_data(n=n, k=k, t=t, b=b, Sigma=Sigma)"
   ]
  },
  {
   "cell_type": "markdown",
   "metadata": {},
   "source": [
    "### Optimization"
   ]
  },
  {
   "cell_type": "code",
   "execution_count": 19,
   "metadata": {},
   "outputs": [
    {
     "name": "stdout",
     "output_type": "stream",
     "text": [
      "85.00816504721163 [ 0.05187272  0.16147536  0.1432634  -0.0324854   0.1990518  -0.5785764\n",
      "  0.24475195 -0.14273084 -0.09429239 -0.03904129]\n",
      "85.0081650472129 [ 0.05187272  0.16147536  0.1432634  -0.03248542  0.19905181 -0.5785764\n",
      "  0.24475195 -0.14273084 -0.09429239 -0.03904129]\n",
      "85.00816504722492 [ 0.05187272  0.16147536  0.1432634  -0.03248542  0.1990518  -0.57857639\n",
      "  0.24475195 -0.14273084 -0.09429239 -0.03904129]\n",
      "85.00816504722091 [ 0.05187272  0.16147536  0.1432634  -0.03248542  0.1990518  -0.5785764\n",
      "  0.24475196 -0.14273084 -0.09429239 -0.03904129]\n",
      "85.008165047214 [ 0.05187272  0.16147536  0.1432634  -0.03248542  0.1990518  -0.5785764\n",
      "  0.24475195 -0.14273083 -0.09429239 -0.03904129]\n",
      "85.00816504721675 [ 0.05187272  0.16147536  0.1432634  -0.03248542  0.1990518  -0.5785764\n",
      "  0.24475195 -0.14273084 -0.09429237 -0.03904129]\n",
      "85.00816504721563 [ 0.05187272  0.16147536  0.1432634  -0.03248542  0.1990518  -0.5785764\n",
      "  0.24475195 -0.14273084 -0.09429239 -0.03904127]\n",
      "85.00816503869592 [ 0.05188072  0.16147564  0.14325561 -0.03247935  0.19905781 -0.57859091\n",
      "  0.2447481  -0.142733   -0.09428935 -0.03903719]\n",
      "85.00816503869565 [ 0.05188073  0.16147564  0.14325561 -0.03247935  0.19905781 -0.57859091\n",
      "  0.2447481  -0.142733   -0.09428935 -0.03903719]\n",
      "85.00816503869609 [ 0.05188072  0.16147565  0.14325561 -0.03247935  0.19905781 -0.57859091\n",
      "  0.2447481  -0.142733   -0.09428935 -0.03903719]\n",
      "85.00816503869618 [ 0.05188072  0.16147564  0.14325563 -0.03247935  0.19905781 -0.57859091\n",
      "  0.2447481  -0.142733   -0.09428935 -0.03903719]\n",
      "85.00816503869558 [ 0.05188072  0.16147564  0.14325561 -0.03247933  0.19905781 -0.57859091\n",
      "  0.2447481  -0.142733   -0.09428935 -0.03903719]\n",
      "85.00816503869576 [ 0.05188072  0.16147564  0.14325561 -0.03247935  0.19905782 -0.57859091\n",
      "  0.2447481  -0.142733   -0.09428935 -0.03903719]\n",
      "85.00816503869598 [ 0.05188072  0.16147564  0.14325561 -0.03247935  0.19905781 -0.57859089\n",
      "  0.2447481  -0.142733   -0.09428935 -0.03903719]\n",
      "85.00816503869613 [ 0.05188072  0.16147564  0.14325561 -0.03247935  0.19905781 -0.57859091\n",
      "  0.24474812 -0.142733   -0.09428935 -0.03903719]\n",
      "85.00816503869571 [ 0.05188072  0.16147564  0.14325561 -0.03247935  0.19905781 -0.57859091\n",
      "  0.2447481  -0.14273299 -0.09428935 -0.03903719]\n",
      "85.00816503869576 [ 0.05188072  0.16147564  0.14325561 -0.03247935  0.19905781 -0.57859091\n",
      "  0.2447481  -0.142733   -0.09428934 -0.03903719]\n",
      "85.00816503869576 [ 0.05188072  0.16147564  0.14325561 -0.03247935  0.19905781 -0.57859091\n",
      "  0.2447481  -0.142733   -0.09428935 -0.03903718]\n",
      "85.00816503867162 [ 0.05188132  0.16147544  0.14325518 -0.03247885  0.19905798 -0.57859109\n",
      "  0.24474779 -0.14273293 -0.09428901 -0.03903687]\n",
      "85.00816503867162 [ 0.05188133  0.16147544  0.14325518 -0.03247885  0.19905798 -0.57859109\n",
      "  0.24474779 -0.14273293 -0.09428901 -0.03903687]\n",
      "85.00816503867162 [ 0.05188132  0.16147546  0.14325518 -0.03247885  0.19905798 -0.57859109\n",
      "  0.24474779 -0.14273293 -0.09428901 -0.03903687]\n",
      "85.00816503867162 [ 0.05188132  0.16147544  0.14325519 -0.03247885  0.19905798 -0.57859109\n",
      "  0.24474779 -0.14273293 -0.09428901 -0.03903687]\n",
      "85.0081650386716 [ 0.05188132  0.16147544  0.14325518 -0.03247883  0.19905798 -0.57859109\n",
      "  0.24474779 -0.14273293 -0.09428901 -0.03903687]\n",
      "85.00816503867162 [ 0.05188132  0.16147544  0.14325518 -0.03247885  0.19905799 -0.57859109\n",
      "  0.24474779 -0.14273293 -0.09428901 -0.03903687]\n",
      "85.0081650386716 [ 0.05188132  0.16147544  0.14325518 -0.03247885  0.19905798 -0.57859108\n",
      "  0.24474779 -0.14273293 -0.09428901 -0.03903687]\n",
      "85.0081650386716 [ 0.05188132  0.16147544  0.14325518 -0.03247885  0.19905798 -0.57859109\n",
      "  0.24474781 -0.14273293 -0.09428901 -0.03903687]\n",
      "85.00816503867162 [ 0.05188132  0.16147544  0.14325518 -0.03247885  0.19905798 -0.57859109\n",
      "  0.24474779 -0.14273291 -0.09428901 -0.03903687]\n",
      "85.00816503867162 [ 0.05188132  0.16147544  0.14325518 -0.03247885  0.19905798 -0.57859109\n",
      "  0.24474779 -0.14273293 -0.09428899 -0.03903687]\n",
      "85.0081650386716 [ 0.05188132  0.16147544  0.14325518 -0.03247885  0.19905798 -0.57859109\n",
      "  0.24474779 -0.14273293 -0.09428901 -0.03903686]\n"
     ]
    }
   ],
   "source": [
    "res = minimize(\n",
    "    lambda x, panel, Sigma, sigma: -1 * np.log(d_beta(x, panel, Sigma, sigma)),\n",
    "    args=(panel, Sigma, sigma),\n",
    "    x0=np.array([0.5]*k).reshape(-1, 1)\n",
    ")\n"
   ]
  },
  {
   "cell_type": "code",
   "execution_count": 25,
   "metadata": {},
   "outputs": [
    {
     "data": {
      "text/plain": [
       "0.515423105944512"
      ]
     },
     "execution_count": 25,
     "metadata": {},
     "output_type": "execute_result"
    }
   ],
   "source": [
    "(res.x**2).sum()\n"
   ]
  }
 ],
 "metadata": {
  "kernelspec": {
   "display_name": "Python 3.8.10 64-bit",
   "language": "python",
   "name": "python3"
  },
  "language_info": {
   "codemirror_mode": {
    "name": "ipython",
    "version": 3
   },
   "file_extension": ".py",
   "mimetype": "text/x-python",
   "name": "python",
   "nbconvert_exporter": "python",
   "pygments_lexer": "ipython3",
   "version": "3.8.10"
  },
  "orig_nbformat": 4,
  "vscode": {
   "interpreter": {
    "hash": "082e9a3bcad0a290d0001e938aa60b99250c6c2ef33a923c00b70f9826caf4b7"
   }
  }
 },
 "nbformat": 4,
 "nbformat_minor": 2
}
