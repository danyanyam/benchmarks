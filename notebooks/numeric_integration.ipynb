{
 "cells": [
  {
   "cell_type": "code",
   "execution_count": 64,
   "metadata": {},
   "outputs": [],
   "source": [
    "import numpy as np\n",
    "import pandas as pd\n",
    "from scipy.stats import norm\n",
    "from functools import partial\n",
    "from scipy.integrate import quad\n",
    "from scipy.integrate import nquad\n",
    "from scipy.optimize import minimize"
   ]
  },
  {
   "cell_type": "markdown",
   "metadata": {},
   "source": [
    "### Estimation of parameters\n",
    "\n",
    "First of all we would like to derive from data estimations of the following parameters:\n",
    "$\\pmb\\Sigma$, $\\pmb{b}$, $\\sigma$, given our data $x_n = (x_{n1}, \\dots, x_{nT})$,\n",
    "sequence of choices $d_n = (d_{n1}, \\dots, d_{nT})$ and net utility structure \n",
    "$U_{nt} = \\beta' x_{nt} + \\eta_n + \\varepsilon_{nt}$, where $\\eta_n$ is iid \n",
    "across agents normal with zero-scalar mean and variance $\\sigma$ and $\\varepsilon_{nt}$\n",
    "is iid across agents and time normal with zero-vector mean and $\\pmb\\Omega$ covariance\n",
    "matrix with following form (from probit\\_panel.pdf):\n",
    "$$\n",
    "\\pmb\\Omega =\n",
    " \\begin{pmatrix*} \n",
    "1 + \\sigma & \\sigma& \\dots & \\sigma \\\\\n",
    "\\sigma & 1+\\sigma& \\dots & \\sigma \\\\\n",
    "\\sigma & \\sigma&\\dots &1 + \\sigma \\\\\n",
    "\\end{pmatrix*}\n",
    "$$"
   ]
  },
  {
   "cell_type": "markdown",
   "metadata": {},
   "source": [
    "$$\n",
    "\\begin{align*}\n",
    "    P(d_n |x_n) & = \\int_{\\mathbb{R}^k} \\left(\\int_{\\mathbb{R}}\n",
    "    P(d_n |\\eta, \\beta, x_n) \\phi_{\\sigma}(\\eta)d\\eta \\right)\n",
    "    \\phi_{\\Sigma}(\\beta)d\\beta                              \\\\\n",
    "                & =\\int_{\\mathbb{R}^k}\\left(\\int_{\\mathbb{R}}\n",
    "    \\prod_{t=1}^{T}\\Phi((\\beta'x_{nt} + \\eta)d_{nt})\n",
    "    \\phi_{\\sigma}(\\eta)d\\eta \\right)\\phi_{\\Sigma}(\\beta)\n",
    "    d\\beta\n",
    "\\end{align*}\n",
    "$$"
   ]
  },
  {
   "cell_type": "markdown",
   "metadata": {},
   "source": [
    "Then MLE for every person would be the following:\n",
    "$$\n",
    "\\begin{align*}\n",
    "    P(d |x) & = \\int_{\\mathbb{R}^k} \\left(\\int_{\\mathbb{R}}\n",
    "    P(d |\\eta, \\beta, x) \\phi_{\\sigma}(\\eta)d\\eta \\right)\n",
    "    \\phi_{\\Sigma}(\\beta)d\\beta \\\\\n",
    "   & = \\int_{\\mathbb{R}^k} \\prod_{n=1}^N\\left(\\int_{\\mathbb{R}}\n",
    "    P(d_n |\\eta, \\beta, x_n) \\phi_{\\sigma}(\\eta)d\\eta \\right)\n",
    "    \\phi_{\\Sigma}(\\beta)d\\beta \\\\\n",
    "    & = \\int_{\\mathbb{R}^k} \\prod_{n=1}^N\\left(\\int_{\\mathbb{R}} \\prod_{t=1}^T\n",
    "    P(d_{nt} |\\eta, \\beta, x_{nt}) \\phi_{\\sigma}(\\eta)d\\eta \\right)\n",
    "    \\phi_{\\Sigma}(\\beta)d\\beta \n",
    "                                 \\\\\n",
    "                & =\\int_{\\mathbb{R}^k}\\prod_{n=1}^N\\left(\\int_{\\mathbb{R}}\n",
    "    \\prod_{t=1}^{T}\\Phi((\\beta'x_{nt} + \\eta)d_{nt})\n",
    "    \\phi_{\\sigma}(\\eta)d\\eta \\right)\\phi_{\\Sigma}(\\beta)\n",
    "    d\\beta\n",
    "\\end{align*}\n",
    "$$"
   ]
  },
  {
   "cell_type": "markdown",
   "metadata": {},
   "source": [
    "### Parameters"
   ]
  },
  {
   "cell_type": "markdown",
   "metadata": {},
   "source": [
    "Then MLE for every person would be the following:\n",
    "$$\n",
    "                \\int_{\\mathbb{R}^k}\\prod_{n=1}^N\\left(\\int_{\\mathbb{R}}\n",
    "    \\prod_{t=1}^{T}\\Phi((\\beta'x_{nt} + \\eta)d_{nt})\n",
    "    \\phi_{\\sigma}(\\eta)d\\eta \\right)\\phi_{\\Sigma}(\\beta)\n",
    "    d\\beta\n",
    "$$"
   ]
  },
  {
   "cell_type": "code",
   "execution_count": 77,
   "metadata": {},
   "outputs": [],
   "source": [
    "def round_arr(arr):\n",
    "    \"\"\" util function \"\"\"\n",
    "    return [round(i, 3) for i in arr]\n",
    "\n",
    "\n",
    "def generate_data(n: int, k: int, t: int,\n",
    "                  b: np.array, Sigma: np.matrix) -> pd.DataFrame:\n",
    "    \"\"\"generates panel data based on input parameters\n",
    "\n",
    "    Args:\n",
    "        n (int): amount of agents\n",
    "        k (int): amount of features of agents\n",
    "        t (int): amount of time periods each agent made choice\n",
    "        b (np.array): expectation of tastes\n",
    "        Sigma (np.matrix): covariance of tastes\n",
    "\n",
    "    Returns:\n",
    "        pd.DataFrame: panel data\n",
    "    \"\"\"\n",
    "    data = []\n",
    "\n",
    "    for n in range(n):\n",
    "\n",
    "        beta = np.random.multivariate_normal(\n",
    "            mean=b,\n",
    "            cov=Sigma,\n",
    "        ).reshape(-1, 1)\n",
    "\n",
    "        x_n = pd.DataFrame(\n",
    "            data=np.random.normal(size=(t, k)),\n",
    "            columns=[f'k{i}' for i in range(k)]\n",
    "        )\n",
    "        utility = x_n @ beta\n",
    "        x_n['agent'] = n\n",
    "        x_n['choice'] = np.where(utility > 0, 1, -1)\n",
    "        data.append(x_n)\n",
    "\n",
    "    return pd.concat(data)\n",
    "\n",
    "\n",
    "def multivariate_normal_pdf(x: np.array, expectation: np.array,\n",
    "                            covariance: np.matrix) -> float:\n",
    "    \"\"\"returns pdf of given sample of mv normal distribution\n",
    "\n",
    "    Args:\n",
    "        x (np.array): sample\n",
    "        expectation (np.array): param of normal distribution\n",
    "        covariance (np.matrix): covariance of mv normal rv\n",
    "\n",
    "    Returns:\n",
    "        float: pdf value of sample, given population parameters\n",
    "    \"\"\"\n",
    "    x_m = x - expectation\n",
    "    return (1. / (np.sqrt((2 * np.pi)**(len(expectation)) * np.linalg.det(covariance))) *\n",
    "            np.exp(-(np.linalg.solve(covariance, x_m).T.dot(x_m)) / 2))\n",
    "\n",
    "\n",
    "def d_eta(eta: float, x_n: pd.DataFrame,\n",
    "          beta: np.array, sigma: float) -> float:\n",
    "    \"\"\"returns function under inner integral in point\n",
    "\n",
    "    Args:\n",
    "        eta (float): point value\n",
    "        x_n (pd.DataFrame): data point\n",
    "        beta (np.array): taste parameter\n",
    "        sigma (float): variance of noise in utility\n",
    "\n",
    "    Returns:\n",
    "        float: under integral function value\n",
    "    \"\"\"\n",
    "\n",
    "    res = norm.cdf(((x_n.iloc[:, :len(beta)] * beta.T).sum(axis=1) +\n",
    "                   eta).multiply(x_n['choice'], axis=0))\n",
    "\n",
    "    return res.prod() * norm.pdf(eta, scale=np.sqrt(sigma))\n",
    "\n",
    "\n",
    "def integrate_d_eta(*beta, panel: pd.DataFrame,\n",
    "                    b: np.array, sigma: float, Sigma: np.matrix) -> float:\n",
    "    \"\"\"product of one-dimensional integrals w.r.t eta\n",
    "\n",
    "    Args:\n",
    "        panel (pd.DataFrame): data\n",
    "        b (np.array): expectation of tastes\n",
    "        sigma (float): variance of noise of utilities\n",
    "        Sigma (np.matrix): covariance matrix of tastes\n",
    "\n",
    "    Returns:\n",
    "        float: infinite integral value\n",
    "    \"\"\"\n",
    "\n",
    "    n_cumprod = 1\n",
    "    beta = np.array(beta)\n",
    "    print(beta)\n",
    "\n",
    "    for _, x_n in panel.groupby('agent'):\n",
    "        integral = quad(\n",
    "            d_eta,\n",
    "            -np.inf,\n",
    "            +np.inf,\n",
    "            args=(x_n, beta, sigma)\n",
    "        )\n",
    "        n_cumprod *= integral[0]\n",
    "\n",
    "    return n_cumprod * multivariate_normal_pdf(\n",
    "        beta, b, Sigma\n",
    "    )\n",
    "\n",
    "\n",
    "def integrate_d_beta(b: np.array, sigma: float,\n",
    "                     Sigma: np.matrix, panel: pd.DataFrame) -> float:\n",
    "    \"\"\"k-dimensional integral w.r.t tastes\n",
    "\n",
    "    Args:\n",
    "        panel (pd.DataFrame): data\n",
    "        b (np.array): expection of tastes\n",
    "        sigma (float): variance of noise in utilities\n",
    "        Sigma (np.matrix): covariance of tastes\n",
    "\n",
    "    Returns:\n",
    "        float: integral value\n",
    "    \"\"\"\n",
    "\n",
    "    # infinite integrating by vector of betas\n",
    "    return nquad(\n",
    "        partial(integrate_d_eta,\n",
    "                panel=panel,\n",
    "                b=b,\n",
    "                sigma=sigma,\n",
    "                Sigma=Sigma),\n",
    "        [[-np.inf, +np.inf] for _ in range(len(b))],  # taste ranges\n",
    "    )\n"
   ]
  },
  {
   "cell_type": "markdown",
   "metadata": {},
   "source": [
    "$$\n",
    "                \\int_{\\mathbb{R}^k}\\prod_{n=1}^N\\left(\\int_{\\mathbb{R}}\n",
    "    \\prod_{t=1}^{T}\\Phi((\\beta'x_{nt} + \\eta)d_{nt})\n",
    "    \\phi_{\\sigma}(\\eta)d\\eta \\right)\\phi_{\\Sigma}(\\beta)\n",
    "    d\\beta\n",
    "$$"
   ]
  },
  {
   "cell_type": "markdown",
   "metadata": {},
   "source": [
    "### Data generation"
   ]
  },
  {
   "cell_type": "code",
   "execution_count": 83,
   "metadata": {},
   "outputs": [
    {
     "data": {
      "text/html": [
       "<div>\n",
       "<style scoped>\n",
       "    .dataframe tbody tr th:only-of-type {\n",
       "        vertical-align: middle;\n",
       "    }\n",
       "\n",
       "    .dataframe tbody tr th {\n",
       "        vertical-align: top;\n",
       "    }\n",
       "\n",
       "    .dataframe thead th {\n",
       "        text-align: right;\n",
       "    }\n",
       "</style>\n",
       "<table border=\"1\" class=\"dataframe\">\n",
       "  <thead>\n",
       "    <tr style=\"text-align: right;\">\n",
       "      <th></th>\n",
       "      <th>k0</th>\n",
       "      <th>k1</th>\n",
       "      <th>agent</th>\n",
       "      <th>choice</th>\n",
       "    </tr>\n",
       "  </thead>\n",
       "  <tbody>\n",
       "    <tr>\n",
       "      <th>0</th>\n",
       "      <td>0.687424</td>\n",
       "      <td>-1.064029</td>\n",
       "      <td>0</td>\n",
       "      <td>1</td>\n",
       "    </tr>\n",
       "    <tr>\n",
       "      <th>1</th>\n",
       "      <td>1.061793</td>\n",
       "      <td>-1.325351</td>\n",
       "      <td>0</td>\n",
       "      <td>1</td>\n",
       "    </tr>\n",
       "    <tr>\n",
       "      <th>2</th>\n",
       "      <td>-1.262761</td>\n",
       "      <td>-0.327629</td>\n",
       "      <td>0</td>\n",
       "      <td>-1</td>\n",
       "    </tr>\n",
       "    <tr>\n",
       "      <th>3</th>\n",
       "      <td>-1.384816</td>\n",
       "      <td>-0.525422</td>\n",
       "      <td>0</td>\n",
       "      <td>-1</td>\n",
       "    </tr>\n",
       "    <tr>\n",
       "      <th>4</th>\n",
       "      <td>0.338701</td>\n",
       "      <td>-1.519942</td>\n",
       "      <td>0</td>\n",
       "      <td>1</td>\n",
       "    </tr>\n",
       "  </tbody>\n",
       "</table>\n",
       "</div>"
      ],
      "text/plain": [
       "         k0        k1  agent  choice\n",
       "0  0.687424 -1.064029      0       1\n",
       "1  1.061793 -1.325351      0       1\n",
       "2 -1.262761 -0.327629      0      -1\n",
       "3 -1.384816 -0.525422      0      -1\n",
       "4  0.338701 -1.519942      0       1"
      ]
     },
     "execution_count": 83,
     "metadata": {},
     "output_type": "execute_result"
    }
   ],
   "source": [
    "\n",
    "t = 5   # time periods\n",
    "k = 2   # dimensionality of features\n",
    "n = 20  # amount of agents\n",
    "\n",
    "b = np.zeros(k)\n",
    "Sigma = np.eye(k)\n",
    "sigma = 3\n",
    "\n",
    "panel = generate_data(n=n, k=k, t=t, b=b, Sigma=Sigma)\n",
    "panel.head()"
   ]
  },
  {
   "cell_type": "code",
   "execution_count": 84,
   "metadata": {},
   "outputs": [
    {
     "name": "stdout",
     "output_type": "stream",
     "text": [
      "[1. 1.]\n",
      "[-1.  1.]\n",
      "[233.06516869   1.        ]\n",
      "[0.00429065 1.        ]\n",
      "[-233.06516869    1.        ]\n",
      "[-0.00429065  1.        ]\n",
      "[38.2988398  1.       ]\n",
      "[0.02611045 1.        ]\n",
      "[-38.2988398   1.       ]\n",
      "[-0.02611045  1.        ]\n",
      "[13.79995165  1.        ]\n",
      "[0.07246402 1.        ]\n",
      "[-13.79995165   1.        ]\n",
      "[-0.07246402  1.        ]\n"
     ]
    }
   ],
   "source": [
    "integrate_d_beta(b, sigma, Sigma, panel)"
   ]
  },
  {
   "cell_type": "markdown",
   "metadata": {},
   "source": [
    "### Optimization"
   ]
  },
  {
   "cell_type": "code",
   "execution_count": null,
   "metadata": {},
   "outputs": [],
   "source": [
    "# res = minimize(\n",
    "#     lambda x, panel, Sigma, sigma: -1 *\n",
    "#     np.log(integrate_d_beta(x, panel, Sigma, sigma)),\n",
    "#     args=(panel, Sigma, sigma),\n",
    "#     x0=np.array([0.5]*k).reshape(-1, 1)\n",
    "# )\n"
   ]
  },
  {
   "cell_type": "code",
   "execution_count": 25,
   "metadata": {},
   "outputs": [
    {
     "data": {
      "text/plain": [
       "0.515423105944512"
      ]
     },
     "execution_count": 25,
     "metadata": {},
     "output_type": "execute_result"
    }
   ],
   "source": [
    "(res.x**2).sum()\n"
   ]
  }
 ],
 "metadata": {
  "kernelspec": {
   "display_name": "Python 3.8.10 64-bit",
   "language": "python",
   "name": "python3"
  },
  "language_info": {
   "codemirror_mode": {
    "name": "ipython",
    "version": 3
   },
   "file_extension": ".py",
   "mimetype": "text/x-python",
   "name": "python",
   "nbconvert_exporter": "python",
   "pygments_lexer": "ipython3",
   "version": "3.8.10"
  },
  "orig_nbformat": 4,
  "vscode": {
   "interpreter": {
    "hash": "082e9a3bcad0a290d0001e938aa60b99250c6c2ef33a923c00b70f9826caf4b7"
   }
  }
 },
 "nbformat": 4,
 "nbformat_minor": 2
}
