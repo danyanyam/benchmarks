{
 "cells": [
  {
   "cell_type": "code",
   "execution_count": 1,
   "metadata": {},
   "outputs": [],
   "source": [
    "import numpy as np\n",
    "import pandas as pd\n",
    "from scipy.stats import norm\n",
    "from scipy.integrate import quad\n",
    "from scipy.optimize import minimize\n"
   ]
  },
  {
   "cell_type": "markdown",
   "metadata": {},
   "source": [
    "### Estimation of parameters\n",
    "\n",
    "First of all we would like to derive from data estimations of the following parameters:\n",
    "$\\pmb\\Sigma$, $\\pmb{b}$, $\\sigma$, given our data $x_n = (x_{n1}, \\dots, x_{nT})$,\n",
    "sequence of choices $d_n = (d_{n1}, \\dots, d_{nT})$ and net utility structure \n",
    "$U_{nt} = \\beta' x_{nt} + \\eta_n + \\varepsilon_{nt}$, where $\\eta_n$ is iid \n",
    "across agents normal with zero-scalar mean and variance $\\sigma$ and $\\varepsilon_{nt}$\n",
    "is iid across agents and time normal with zero-vector mean and $\\pmb\\Omega$ covariance\n",
    "matrix with following form (from probit\\_panel.pdf):\n",
    "$$\n",
    "\\pmb\\Omega =\n",
    " \\begin{pmatrix*} \n",
    "1 + \\sigma & \\sigma& \\dots & \\sigma \\\\\n",
    "\\sigma & 1+\\sigma& \\dots & \\sigma \\\\\n",
    "\\sigma & \\sigma&\\dots &1 + \\sigma \\\\\n",
    "\\end{pmatrix*}\n",
    "$$"
   ]
  },
  {
   "cell_type": "markdown",
   "metadata": {},
   "source": [
    "$$\n",
    "\\begin{align*}\n",
    "    P(d_n |x_n) & = \\int_{\\mathbb{R}^k} \\left(\\int_{\\mathbb{R}}\n",
    "    P(d_n |\\eta, \\beta, x_n) \\phi_{\\sigma}(\\eta)d\\eta \\right)\n",
    "    \\phi_{\\Sigma}(\\beta)d\\beta                              \\\\\n",
    "                & =\\int_{\\mathbb{R}^k}\\left(\\int_{\\mathbb{R}}\n",
    "    \\prod_{t=1}^{T}\\Phi((\\beta'x_{nt} + \\eta)d_{nt})\n",
    "    \\phi_{\\sigma}(\\eta)d\\eta \\right)\\phi_{\\Sigma}(\\beta)\n",
    "    d\\beta\n",
    "\\end{align*}\n",
    "$$"
   ]
  },
  {
   "cell_type": "markdown",
   "metadata": {},
   "source": [
    "Then MLE for every person would be the following:\n",
    "$$\n",
    "\\begin{align*}\n",
    "    P(d |x) & = \\int_{\\mathbb{R}^k} \\left(\\int_{\\mathbb{R}}\n",
    "    P(d |\\eta, \\beta, x) \\phi_{\\sigma}(\\eta)d\\eta \\right)\n",
    "    \\phi_{\\Sigma}(\\beta)d\\beta \\\\\n",
    "   & = \\int_{\\mathbb{R}^k} \\prod_{n=1}^N\\left(\\int_{\\mathbb{R}}\n",
    "    P(d_n |\\eta, \\beta, x_n) \\phi_{\\sigma}(\\eta)d\\eta \\right)\n",
    "    \\phi_{\\Sigma}(\\beta)d\\beta \\\\\n",
    "    & = \\int_{\\mathbb{R}^k} \\prod_{n=1}^N\\left(\\int_{\\mathbb{R}} \\prod_{t=1}^T\n",
    "    P(d_{nt} |\\eta, \\beta, x_{nt}) \\phi_{\\sigma}(\\eta)d\\eta \\right)\n",
    "    \\phi_{\\Sigma}(\\beta)d\\beta \n",
    "                                 \\\\\n",
    "                & =\\int_{\\mathbb{R}^k}\\prod_{n=1}^N\\left(\\int_{\\mathbb{R}}\n",
    "    \\prod_{t=1}^{T}\\Phi((\\beta'x_{nt} + \\eta)d_{nt})\n",
    "    \\phi_{\\sigma}(\\eta)d\\eta \\right)\\phi_{\\Sigma}(\\beta)\n",
    "    d\\beta\n",
    "\\end{align*}\n",
    "$$"
   ]
  },
  {
   "cell_type": "markdown",
   "metadata": {},
   "source": [
    "### Parameters"
   ]
  },
  {
   "cell_type": "markdown",
   "metadata": {},
   "source": [
    "Then MLE for every person would be the following:\n",
    "$$\n",
    "                \\int_{\\mathbb{R}^k}\\prod_{n=1}^N\\left(\\int_{\\mathbb{R}}\n",
    "    \\prod_{t=1}^{T}\\Phi((\\beta'x_{nt} + \\eta)d_{nt})\n",
    "    \\phi_{\\sigma}(\\eta)d\\eta \\right)\\phi_{\\Sigma}(\\beta)\n",
    "    d\\beta\n",
    "$$"
   ]
  },
  {
   "cell_type": "code",
   "execution_count": 20,
   "metadata": {},
   "outputs": [],
   "source": [
    "def round_arr(arr):\n",
    "    return [round(i, 3) for i in arr]\n",
    "\n",
    "\n",
    "def sample_from_multivariate_normal(\n",
    "        n: int, expectation: np.array, covariance: np.matrix) -> np.matrix:\n",
    "    \"\"\"returns matrix of normal distributed data, \n",
    "    given multivariate covariance and expectation\n",
    "\n",
    "    Args:\n",
    "        n (int): sample size\n",
    "        expectation (np.array): vector of mv normal expectation\n",
    "        covariance (np.matrix): cov matrix\n",
    "\n",
    "    Returns:\n",
    "        np.matrix: sample\n",
    "    \"\"\"\n",
    "    L = np.linalg.cholesky(covariance)\n",
    "    # Sample X from standard normal\n",
    "    X = np.random.normal(size=(len(expectation), n))\n",
    "    # Apply the transformation\n",
    "    return L.dot(X) + expectation\n",
    "\n",
    "\n",
    "def multivariate_normal_pdf(\n",
    "        x: np.array, expectation: np.array, covariance: np.matrix) -> float:\n",
    "    \"\"\"returns pdf of given sample of mv normal distribution\n",
    "\n",
    "    Args:\n",
    "        x (np.array): sample\n",
    "        expectation (np.array): param of normal distribution\n",
    "        covariance (np.matrix): covariance of mv normal rv\n",
    "\n",
    "    Returns:\n",
    "        float: pdf value of sample, given population parameters\n",
    "    \"\"\"\n",
    "    x_m = x - expectation\n",
    "    return (1. / (np.sqrt((2 * np.pi)**(len(expectation)) * np.linalg.det(covariance))) *\n",
    "            np.exp(-(np.linalg.solve(covariance, x_m).T.dot(x_m)) / 2))\n",
    "\n",
    "\n",
    "def integrate_d_eta(\n",
    "    eta: float, x_n: pd.DataFrame, beta: np.array, sigma: float\n",
    ") -> float:\n",
    "\n",
    "    res = norm.cdf(((x_n.iloc[:, :len(beta)] * beta.T).sum(axis=1) +\n",
    "                   eta).multiply(x_n['choice'], axis=0))\n",
    "\n",
    "    return res.prod() * norm.pdf(eta, scale=np.sqrt(sigma))\n",
    "\n",
    "\n",
    "def integrate_d_beta(\n",
    "    beta: np.array, panel: pd.DataFrame, Sigma: np.array, sigma: float\n",
    ") -> float:\n",
    "\n",
    "    ints = []\n",
    "    for _, x_n in panel.groupby('agent'):\n",
    "        integral = quad(integrate_d_eta, -np.inf, +\n",
    "                        np.inf, args=(x_n, beta, sigma))[0]\n",
    "        ints.append(integral)\n",
    "\n",
    "    res = quad(\n",
    "        lambda x, b, covariance:\n",
    "            np.array(ints).prod() * multivariate_normal_pdf(\n",
    "                x, b, covariance\n",
    "            ),\n",
    "            -np.inf,\n",
    "            +np.inf,\n",
    "            args=(b, Sigma)\n",
    "    )[0]\n",
    "\n",
    "    print(f\"Loss: {round(-np.log(res), 3) if not np.isinf(np.log(res)) else 'inf'}\")\n",
    "    print(f\" Expectation: {round_arr(beta)}\")\n",
    "    return res\n",
    "\n",
    "\n",
    "def generate_data(\n",
    "        n: int, k: int, t: int, b: np.array, Sigma: np.matrix) -> pd.DataFrame:\n",
    "    \"\"\"generates panel data based on input parameters\n",
    "\n",
    "    Args:\n",
    "        n (int): amount of agents\n",
    "        k (int): amount of features of agents\n",
    "        t (int): amount of time periods each agent made choice\n",
    "        b (np.array): expectation of tastes\n",
    "        Sigma (np.matrix): covariance of tastes\n",
    "\n",
    "    Returns:\n",
    "        pd.DataFrame: panel data\n",
    "    \"\"\"\n",
    "    data = []\n",
    "\n",
    "    for n in range(n):\n",
    "\n",
    "        beta = np.random.multivariate_normal(\n",
    "            mean=b,\n",
    "            cov=Sigma,\n",
    "        ).reshape(-1, 1)\n",
    "\n",
    "        x_n = pd.DataFrame(\n",
    "            data=np.random.normal(size=(t, k)),\n",
    "            columns=[f'k{i}' for i in range(k)]\n",
    "        )\n",
    "        utility = x_n @ beta\n",
    "        x_n['agent'] = n\n",
    "        x_n['choice'] = np.where(utility > 0, 1, -1)\n",
    "        data.append(x_n)\n",
    "\n",
    "    return pd.concat(data)\n"
   ]
  },
  {
   "cell_type": "markdown",
   "metadata": {},
   "source": [
    "### Data generation"
   ]
  },
  {
   "cell_type": "code",
   "execution_count": 21,
   "metadata": {},
   "outputs": [],
   "source": [
    "\n",
    "t = 5   # time periods\n",
    "k = 10  # dimensionality of features\n",
    "n = 20  # amount of agents\n",
    "\n",
    "b = np.zeros(k)\n",
    "Sigma = np.eye(k)\n",
    "sigma = 3\n",
    "\n",
    "panel = generate_data(n=n, k=k, t=t, b=b, Sigma=Sigma)"
   ]
  },
  {
   "cell_type": "markdown",
   "metadata": {},
   "source": [
    "### Optimization"
   ]
  },
  {
   "cell_type": "code",
   "execution_count": 22,
   "metadata": {},
   "outputs": [
    {
     "name": "stdout",
     "output_type": "stream",
     "text": [
      "Loss: 145.918\n",
      " Expectation: [0.5, 0.5, 0.5, 0.5, 0.5, 0.5, 0.5, 0.5, 0.5, 0.5]\n",
      "Loss: 145.918\n",
      " Expectation: [0.5, 0.5, 0.5, 0.5, 0.5, 0.5, 0.5, 0.5, 0.5, 0.5]\n",
      "Loss: 145.918\n",
      " Expectation: [0.5, 0.5, 0.5, 0.5, 0.5, 0.5, 0.5, 0.5, 0.5, 0.5]\n",
      "Loss: 145.918\n",
      " Expectation: [0.5, 0.5, 0.5, 0.5, 0.5, 0.5, 0.5, 0.5, 0.5, 0.5]\n",
      "Loss: 145.918\n",
      " Expectation: [0.5, 0.5, 0.5, 0.5, 0.5, 0.5, 0.5, 0.5, 0.5, 0.5]\n",
      "Loss: 145.918\n",
      " Expectation: [0.5, 0.5, 0.5, 0.5, 0.5, 0.5, 0.5, 0.5, 0.5, 0.5]\n",
      "Loss: 145.918\n",
      " Expectation: [0.5, 0.5, 0.5, 0.5, 0.5, 0.5, 0.5, 0.5, 0.5, 0.5]\n",
      "Loss: 145.918\n",
      " Expectation: [0.5, 0.5, 0.5, 0.5, 0.5, 0.5, 0.5, 0.5, 0.5, 0.5]\n",
      "Loss: 145.918\n",
      " Expectation: [0.5, 0.5, 0.5, 0.5, 0.5, 0.5, 0.5, 0.5, 0.5, 0.5]\n",
      "Loss: 145.918\n",
      " Expectation: [0.5, 0.5, 0.5, 0.5, 0.5, 0.5, 0.5, 0.5, 0.5, 0.5]\n",
      "Loss: 145.918\n",
      " Expectation: [0.5, 0.5, 0.5, 0.5, 0.5, 0.5, 0.5, 0.5, 0.5, 0.5]\n",
      "Loss: 95.83\n",
      " Expectation: [0.364, 0.223, 0.002, 0.337, 0.403, 0.189, 0.23, 0.139, 0.3, -0.049]\n",
      "Loss: 95.83\n",
      " Expectation: [0.364, 0.223, 0.002, 0.337, 0.403, 0.189, 0.23, 0.139, 0.3, -0.049]\n",
      "Loss: 95.83\n",
      " Expectation: [0.364, 0.223, 0.002, 0.337, 0.403, 0.189, 0.23, 0.139, 0.3, -0.049]\n",
      "Loss: 95.83\n",
      " Expectation: [0.364, 0.223, 0.002, 0.337, 0.403, 0.189, 0.23, 0.139, 0.3, -0.049]\n",
      "Loss: 95.83\n",
      " Expectation: [0.364, 0.223, 0.002, 0.337, 0.403, 0.189, 0.23, 0.139, 0.3, -0.049]\n",
      "Loss: 95.83\n",
      " Expectation: [0.364, 0.223, 0.002, 0.337, 0.403, 0.189, 0.23, 0.139, 0.3, -0.049]\n",
      "Loss: 95.83\n",
      " Expectation: [0.364, 0.223, 0.002, 0.337, 0.403, 0.189, 0.23, 0.139, 0.3, -0.049]\n",
      "Loss: 95.83\n",
      " Expectation: [0.364, 0.223, 0.002, 0.337, 0.403, 0.189, 0.23, 0.139, 0.3, -0.049]\n",
      "Loss: 95.83\n",
      " Expectation: [0.364, 0.223, 0.002, 0.337, 0.403, 0.189, 0.23, 0.139, 0.3, -0.049]\n",
      "Loss: 95.83\n",
      " Expectation: [0.364, 0.223, 0.002, 0.337, 0.403, 0.189, 0.23, 0.139, 0.3, -0.049]\n",
      "Loss: 95.83\n",
      " Expectation: [0.364, 0.223, 0.002, 0.337, 0.403, 0.189, 0.23, 0.139, 0.3, -0.049]\n",
      "Loss: 390.761\n",
      " Expectation: [0.158, -0.887, 1.118, -2.222, -1.931, -1.002, 1.233, -1.377, -1.975, 0.118]\n",
      "Loss: 390.761\n",
      " Expectation: [0.158, -0.887, 1.118, -2.222, -1.931, -1.002, 1.233, -1.377, -1.975, 0.118]\n",
      "Loss: 390.761\n",
      " Expectation: [0.158, -0.887, 1.118, -2.222, -1.931, -1.002, 1.233, -1.377, -1.975, 0.118]\n",
      "Loss: 390.761\n",
      " Expectation: [0.158, -0.887, 1.118, -2.222, -1.931, -1.002, 1.233, -1.377, -1.975, 0.118]\n",
      "Loss: 390.761\n",
      " Expectation: [0.158, -0.887, 1.118, -2.222, -1.931, -1.002, 1.233, -1.377, -1.975, 0.118]\n",
      "Loss: 390.761\n",
      " Expectation: [0.158, -0.887, 1.118, -2.222, -1.931, -1.002, 1.233, -1.377, -1.975, 0.118]\n",
      "Loss: 390.761\n",
      " Expectation: [0.158, -0.887, 1.118, -2.222, -1.931, -1.002, 1.233, -1.377, -1.975, 0.118]\n",
      "Loss: 390.761\n",
      " Expectation: [0.158, -0.887, 1.118, -2.222, -1.931, -1.002, 1.233, -1.377, -1.975, 0.118]\n",
      "Loss: 390.761\n",
      " Expectation: [0.158, -0.887, 1.118, -2.222, -1.931, -1.002, 1.233, -1.377, -1.975, 0.118]\n",
      "Loss: 390.761\n",
      " Expectation: [0.158, -0.887, 1.118, -2.222, -1.931, -1.002, 1.233, -1.377, -1.975, 0.118]\n",
      "Loss: 390.761\n",
      " Expectation: [0.158, -0.887, 1.118, -2.222, -1.931, -1.002, 1.233, -1.377, -1.975, 0.118]\n",
      "Loss: 90.416\n",
      " Expectation: [0.34, 0.094, 0.132, 0.04, 0.132, 0.051, 0.347, -0.037, 0.036, -0.029]\n",
      "Loss: 90.416\n",
      " Expectation: [0.34, 0.094, 0.132, 0.04, 0.132, 0.051, 0.347, -0.037, 0.036, -0.029]\n",
      "Loss: 90.416\n",
      " Expectation: [0.34, 0.094, 0.132, 0.04, 0.132, 0.051, 0.347, -0.037, 0.036, -0.029]\n"
     ]
    }
   ],
   "source": [
    "res = minimize(\n",
    "    lambda x, panel, Sigma, sigma: -1 *\n",
    "    np.log(integrate_d_beta(x, panel, Sigma, sigma)),\n",
    "    args=(panel, Sigma, sigma),\n",
    "    x0=np.array([0.5]*k).reshape(-1, 1)\n",
    ")\n"
   ]
  },
  {
   "cell_type": "code",
   "execution_count": 25,
   "metadata": {},
   "outputs": [
    {
     "data": {
      "text/plain": [
       "0.515423105944512"
      ]
     },
     "execution_count": 25,
     "metadata": {},
     "output_type": "execute_result"
    }
   ],
   "source": [
    "(res.x**2).sum()\n"
   ]
  }
 ],
 "metadata": {
  "kernelspec": {
   "display_name": "Python 3.8.10 64-bit",
   "language": "python",
   "name": "python3"
  },
  "language_info": {
   "codemirror_mode": {
    "name": "ipython",
    "version": 3
   },
   "file_extension": ".py",
   "mimetype": "text/x-python",
   "name": "python",
   "nbconvert_exporter": "python",
   "pygments_lexer": "ipython3",
   "version": "3.8.10"
  },
  "orig_nbformat": 4,
  "vscode": {
   "interpreter": {
    "hash": "082e9a3bcad0a290d0001e938aa60b99250c6c2ef33a923c00b70f9826caf4b7"
   }
  }
 },
 "nbformat": 4,
 "nbformat_minor": 2
}
