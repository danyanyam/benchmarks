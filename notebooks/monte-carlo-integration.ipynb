{
 "cells": [
  {
   "cell_type": "code",
   "execution_count": 1,
   "id": "09012a09",
   "metadata": {},
   "outputs": [],
   "source": [
    "from scipy.integrate import quad\n",
    "import matplotlib.pyplot as plt\n",
    "from scipy.stats import norm\n",
    "import numpy as np\n",
    "\n",
    "from tqdm.notebook import tqdm\n"
   ]
  },
  {
   "cell_type": "markdown",
   "id": "d8e2994a",
   "metadata": {},
   "source": [
    "### Options for numerical integration"
   ]
  },
  {
   "cell_type": "markdown",
   "id": "9f77b9a0",
   "metadata": {},
   "source": [
    "We can use Monte-Carlo integration.\n",
    "\n",
    "$$ \\int_{D} g(x)dx  = \\int_D g(x) \\frac{f(x)}{f(x)} dx = \\int_D \\frac{g(x)}{f(x)}f(x)dx = \\mathbb{E}_f\\left[ \\frac{g(x)}{f(x)}\\right] $$\n",
    "By LLN sample mean converges in probability to math expectation of the same function of random variables:\n",
    "$$\n",
    "\\frac{1}{N}\\sum_{i=1}^{N} \\frac{g(x_i)}{f(x_i)} \\to \\mathbb{E}_f\\left[ \\frac{g(x)}{f(x)}\\right] \n",
    "$$\n",
    "So algorithm for estimation any integral is the following:\n",
    "    \n",
    "1. Define the set on which we need to calculate integral (ex. $D = \\mathbb{R}$ or\n",
    "$ D = [a, b]$)\n",
    "2. Define appropriate $ f(x)$ which is defined on the same set (ex. if $D =\n",
    " \\mathbb{R}$ then we can take $f(x) = \\phi(x)$, which is pdf of normal \n",
    " distribution)\n",
    "3. Draw $N$ samples from $f(x)$ and for each draw $i = 1...N$ calculate $g(x_i)/f(x_i) $\n",
    "4. Average values across all draws. Obtained number would be value of integral"
   ]
  },
  {
   "cell_type": "markdown",
   "id": "af3bfeb2",
   "metadata": {},
   "source": [
    "#### Example\n",
    "Suppose we need to define the value for the next integral:\n",
    "$$ \\int_{0}^1 x^3dx = \\left.\\frac{x^4}{4}\\right|^1_0  = \\frac{1}{4}$$\n",
    "\n",
    "1. Let $f(x)$ be pdf of $U[0, 1]$, i.e. $f(x) = 1$ then:\n",
    "$$\n",
    "\\int_{0}^1 x^3dx = \\mathbb{E}_f\\left[ g(x) \\right]\n",
    "$$\n",
    "Which by LLN can be estimated as follows:\n",
    "$$\n",
    "\\frac{1}{N}\\sum_{i=1}^{N} g(x_i) \\to \\mathbb{E}_f\\left[ g(x) \\right]\n",
    "$$\n",
    "\n",
    "lets find distribution of such estimates"
   ]
  },
  {
   "cell_type": "code",
   "execution_count": 9,
   "id": "aa409e53",
   "metadata": {},
   "outputs": [],
   "source": [
    "from typing import Callable, List"
   ]
  },
  {
   "cell_type": "code",
   "execution_count": 5,
   "id": "c6fb05c5",
   "metadata": {},
   "outputs": [
    {
     "name": "stdout",
     "output_type": "stream",
     "text": [
      "0.24978279780451731\n",
      "0.0024276291370452143\n"
     ]
    },
    {
     "data": {
      "image/png": "[encoded data removed]",
      "text/plain": [
       "<Figure size 432x288 with 1 Axes>"
      ]
     },
     "metadata": {
      "needs_background": "light"
     },
     "output_type": "display_data"
    }
   ],
   "source": [
    "def slow_simulate(\n",
    "        g: Callable,\n",
    "        min: float,\n",
    "        max: float,\n",
    "        N: int,\n",
    "        num_of_experiments: int) -> List[float]:\n",
    "\n",
    "    areas = []\n",
    "\n",
    "    for _ in tqdm(range(num_of_experiments)):\n",
    "        X = np.random.uniform(min, max, size=N)\n",
    "        areas.append(g(X).mean(axis=0) * (max - min))\n",
    "\n",
    "    plt.hist(areas)\n",
    "    print(areas.mean())\n",
    "    print(areas.std())\n",
    "\n",
    "    return areas\n",
    "\n",
    "\n",
    "def simulate(g: Callable,\n",
    "             min: float,\n",
    "             max: float,\n",
    "             N: int = 10_000,\n",
    "             num_of_experiments: int = 100) -> np.array:\n",
    "\n",
    "    X = np.random.uniform(min, max, size=(N, num_of_experiments))\n",
    "    areas = g(X).mean(axis=0) * (max - min)\n",
    "\n",
    "    plt.hist(areas)\n",
    "    print(areas.mean())\n",
    "    print(areas.std())\n",
    "    return areas\n",
    "\n",
    "\n",
    "def g(x: np.array) -> np.array:\n",
    "    return x**3\n",
    "\n",
    "\n",
    "areas = simulate(g, 0, 1)\n"
   ]
  },
  {
   "cell_type": "markdown",
   "id": "b46d3012",
   "metadata": {},
   "source": [
    "#### Example 2\n",
    "Lets integrate more complicated function\n",
    "$$\n",
    "\\int_{0.025}^{0.975}\\phi(x)dx\n",
    "$$\n"
   ]
  },
  {
   "cell_type": "code",
   "execution_count": 8,
   "id": "5b633ce3",
   "metadata": {},
   "outputs": [
    {
     "name": "stdout",
     "output_type": "stream",
     "text": [
      "0.9500280654247927\n",
      "0.004437405139706012\n"
     ]
    },
    {
     "data": {
      "image/png": "[encoded data removed]",
      "text/plain": [
       "<Figure size 432x288 with 1 Axes>"
      ]
     },
     "metadata": {
      "needs_background": "light"
     },
     "output_type": "display_data"
    }
   ],
   "source": [
    "def g(x):\n",
    "    return norm.pdf(x)\n",
    "\n",
    "\n",
    "areas = simulate(g, -1.96, 1.96, num_of_experiments=10_000)"
   ]
  }
 ],
 "metadata": {
  "kernelspec": {
   "display_name": "Python 3.8.10 ('env': venv)",
   "language": "python",
   "name": "python3"
  },
  "language_info": {
   "codemirror_mode": {
    "name": "ipython",
    "version": 3
   },
   "file_extension": ".py",
   "mimetype": "text/x-python",
   "name": "python",
   "nbconvert_exporter": "python",
   "pygments_lexer": "ipython3",
   "version": "3.8.10"
  },
  "varInspector": {
   "cols": {
    "lenName": 16,
    "lenType": 16,
    "lenVar": 40
   },
   "kernels_config": {
    "python": {
     "delete_cmd_postfix": "",
     "delete_cmd_prefix": "del ",
     "library": "var_list.py",
     "varRefreshCmd": "print(var_dic_list())"
    },
    "r": {
     "delete_cmd_postfix": ") ",
     "delete_cmd_prefix": "rm(",
     "library": "var_list.r",
     "varRefreshCmd": "cat(var_dic_list()) "
    }
   },
   "types_to_exclude": [
    "module",
    "function",
    "builtin_function_or_method",
    "instance",
    "_Feature"
   ],
   "window_display": false
  },
  "vscode": {
   "interpreter": {
    "hash": "be6dbf052d25fbabe85e38beb700834f2858c957a90d40a4e2373ccb2a4b6c42"
   }
  }
 },
 "nbformat": 4,
 "nbformat_minor": 5
}
