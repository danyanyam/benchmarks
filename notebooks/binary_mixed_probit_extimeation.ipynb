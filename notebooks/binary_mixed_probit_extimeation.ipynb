{
 "cells": [
  {
   "cell_type": "code",
   "execution_count": 97,
   "id": "e6f68418",
   "metadata": {},
   "outputs": [],
   "source": [
    "import numpy as np\n",
    "from scipy.stats import multivariate_normal as mv"
   ]
  },
  {
   "cell_type": "markdown",
   "id": "73cebcc8",
   "metadata": {},
   "source": [
    "*N.B. All of the expectations below are conditional on x*\n",
    "\n",
    "\n",
    "Taste variation:  $ \\beta_n \\sim \\mathcal{N}(b, \\sigma^2_{\\beta})$. This model specification allows to estimate $b, \\sigma^2_{\\beta}$\n",
    "\n",
    "Each agent's utility is:\n",
    "$$ \\begin{cases} U_{n1} = \\beta_{n}'x_{n1} + \\varepsilon_{n1} \\\\ U_{n2} = \\beta_{n}'x_{n2} + \\varepsilon_{n2} \\end{cases} $$\n",
    "\n",
    "where $\\varepsilon_n = (\\varepsilon_{n1}, \\varepsilon_{n2}) \\sim \\mathcal{N}(\\pmb{0}, \\pmb{\\Sigma})$\n",
    "\n",
    "*Train* suggests to rewrite it as follows:\n",
    " $ U_{nj} = b'x_{nj} + \\tilde{\\beta}_n'x_{nj} + \\varepsilon_{nj} $, where $\\tilde{\\beta}_n = \\beta_n - b$. Let $ \\eta_{nj} =\\tilde{\\beta}_n'x_{nj} + \\varepsilon_{nj} $ and we obtain new system of utilities:\n",
    "\n",
    "$$ \\begin{cases} U_{n1} = \\beta_{n}'x_{n1} + \\varepsilon_{n1} \\\\ U_{n2} = \\beta_{n}'x_{n2} + \\varepsilon_{n2} \\end{cases} \\to \\begin{cases} U_{n1} = b'x_{n1} + \\eta_{n1} \\\\ U_{n2} = b'x_{n2} + \\eta_{n2} \\end{cases}$$\n",
    "\n",
    "and it is easy to show that conditional on data $$ \\mathbb{E} (\\eta_{nj}) = \\mathbb{E}(\\tilde{\\beta}_n'x_{nj} + \\varepsilon_{nj}) = 0  $$\n",
    "what follows from the error iid and the beta's distribution. The matrix of covariances for errors with imposed restrictions on the properties of utility functions has the following form:\n",
    "\n",
    "$$ \\text{Cov}(\\eta_{n1}, \\eta_{n2}) = \\Omega = \\sigma^2_{\\beta} \\begin{pmatrix} x^2_{n1}& x_{n1}x_{n2} \\\\ x_{n1}x_{n2}& x^2_{n2}  \\end{pmatrix} + \\begin{pmatrix}1& 0 \\\\0&1\\end{pmatrix}$$\n",
    "\n",
    "\n",
    "$$ \\eta_{n} = (\\eta_{n1}, \\eta_{n2}) \\sim \\mathcal{N}\\left( \\begin{pmatrix} 0 \\\\0  \\end{pmatrix}, \\begin{pmatrix} \\sigma^2_{\\beta}x^2_{n1} + 1& \\sigma^2_{\\beta}x_{n1}x_{n2} \\\\ \\sigma^2_{\\beta}x_{n1}x_{n2}& \\sigma^2_{\\beta}x^2_{n2} + 1  \\end{pmatrix} \\right)$$\n",
    "which implies that\n",
    "\n",
    "$$ P(U_{n1} > U_{n2}) = P(b'x_{n1} + \\eta_{n1} >  b'x_{n2} + \\eta_{n2}) = P(\\eta_{n1}-\\eta_{n2} >  b'x_{n2} - b'x_{n1} ) = 1 - P(\\eta_{n1}-\\eta_{n2} \\le  b'x_{n2} - b'x_{n1} ) $$\n",
    "\n",
    "and finally finding distribution for $\\eta_{n1}- \\eta_{n2}$: difference is distributed normally as linear combination of normal variables. Expectation is:\n",
    "$$ \\mathbb{E}(\\eta_{n1}- \\eta_{n2}) = \\mathbb{E}(\\eta_{n1})- \\mathbb{E}(\\eta_{n2}) = 0 $$\n",
    "and the variance is just:\n",
    "$$ \\mathbb{V}(\\eta_{n1}- \\eta_{n2}) = \\mathbb{V}(\\eta_{n1}) + \\mathbb{V}(\\eta_{n2}) - 2\\text{Cov}(\\eta_{n1}, \\eta_{n2}) = \\sigma^2_{\\beta}x^2_{n1} + 1 + \\sigma^2_{\\beta}x^2_{n2} + 1 - 2\\sigma^2_{\\beta}x_{n1}x_{n2} = 2 + \\sigma^2_{\\beta}(x_{n1} - x_{n2})^2 $$\n",
    "\n",
    "Then it immediately follows that:\n",
    "$$ \\eta_{n1}- \\eta_{n2} \\sim \\mathcal{N} \\left( 0, 2 + \\sigma^2_{\\beta}(x_{n1} - x_{n2})^2\\right) = \\sqrt{2 + \\sigma^2_{\\beta}(x_{n1} - x_{n2})^2} \\times\\mathcal{N}(0, 1)$$\n",
    "\n",
    "Getting back to $P(U_{n1} > U_{n2})$ yields:\n",
    "$$ P(U_{n1} > U_{n2}) = 1 - P(\\eta_{n1}-\\eta_{n2} \\le  b'x_{n2} - b'x_{n1} ) = 1 - \\Phi\\left(\\frac{b'x_{n2} - b'x_{n1}}{\\sqrt{2 + \\sigma^2_{\\beta}(x_{n1} - x_{n2})^2}}\\right) $$"
   ]
  },
  {
   "cell_type": "markdown",
   "id": "b9b32282",
   "metadata": {},
   "source": [
    "We will estimate the parameters $b, \\sigma^2_{\\beta}$ using MLE approach. The likelihood function for person $n$ is just:\n",
    "\n",
    "$$ \\mathcal{L}_n(b, \\sigma^2_{\\beta}) = \\prod_i P(U_{n1i} > U_{n2i})^{y_i}P(U_{n2i} > U_{n1i})^{1-y_i}$$\n",
    "and log-likelihood is:\n",
    "\n",
    "$$ l_n(b, \\sigma^2_{\\beta}) = \\sum_i \\left( y_i \\ln(P(U_{n1i} > U_{n2i}))  + (1-y_i)\\ln(P(U_{n2i} > U_{n1i}))  \\right) $$\n",
    "Inserting formula we obtained above yields:\n",
    "\n",
    "$$ l_n(b, \\sigma^2_{\\beta}) =\\sum_i \\left[ y_i \\ln\\left(1 - \\Phi\\left(\\frac{b'x_{n2i} - b'x_{n1i}}{\\sqrt{2 + \\sigma^2_{\\beta}(x_{n1i} - x_{n2i})^2}}\\right)\\right)  + (1-y_i)\\ln\\left( \\Phi\\left(\\frac{b'x_{n2i} - b'x_{n1i}}{\\sqrt{2 + \\sigma^2_{\\beta}(x_{n1i} - x_{n2i})^2}}\\right)  \\right)  \\right] \\to \\max_{b, \\sigma^2_{\\beta}}$$\n",
    "\n",
    "\n",
    "The only thing left is to account for all agents $n = 1..N$"
   ]
  },
  {
   "cell_type": "markdown",
   "id": "b4e71a82",
   "metadata": {},
   "source": [
    "### Simulation (to-do)"
   ]
  },
  {
   "cell_type": "code",
   "execution_count": 18,
   "id": "31e6913e",
   "metadata": {},
   "outputs": [],
   "source": [
    "X = np.random.normal(loc=1, scale=3, size=(100, 2))\n",
    "e = np.random.normal(size=(100, 2))\n",
    "beta = np.random.normal(loc=0.5, scale=0.75, size=(100, 1))\n",
    "U = beta * X + e\n",
    "y = np.argmax(U, axis=1)"
   ]
  },
  {
   "cell_type": "code",
   "execution_count": 103,
   "id": "74b64c8b",
   "metadata": {},
   "outputs": [],
   "source": [
    "def get_cov(sigma):\n",
    "    global X\n",
    "    return sigma * np.cov(X, rowvar=False) + np.ones(2)\n",
    "\n",
    "def get_pdf(x, sigma):\n",
    "    global X\n",
    "    return mv(mean=[0, 0], cov=get_cov(sigma)).pdf(x)    "
   ]
  },
  {
   "cell_type": "code",
   "execution_count": null,
   "id": "d01291e9",
   "metadata": {},
   "outputs": [],
   "source": [
    "def likelihood():\n",
    "    pass"
   ]
  },
  {
   "cell_type": "code",
   "execution_count": null,
   "id": "b51ebb18",
   "metadata": {},
   "outputs": [],
   "source": [
    "eta = np.random.normal()"
   ]
  }
 ],
 "metadata": {
  "kernelspec": {
   "display_name": "Python 3 (ipykernel)",
   "language": "python",
   "name": "python3"
  },
  "language_info": {
   "codemirror_mode": {
    "name": "ipython",
    "version": 3
   },
   "file_extension": ".py",
   "mimetype": "text/x-python",
   "name": "python",
   "nbconvert_exporter": "python",
   "pygments_lexer": "ipython3",
   "version": "3.9.6"
  },
  "varInspector": {
   "cols": {
    "lenName": 16,
    "lenType": 16,
    "lenVar": 40
   },
   "kernels_config": {
    "python": {
     "delete_cmd_postfix": "",
     "delete_cmd_prefix": "del ",
     "library": "var_list.py",
     "varRefreshCmd": "print(var_dic_list())"
    },
    "r": {
     "delete_cmd_postfix": ") ",
     "delete_cmd_prefix": "rm(",
     "library": "var_list.r",
     "varRefreshCmd": "cat(var_dic_list()) "
    }
   },
   "types_to_exclude": [
    "module",
    "function",
    "builtin_function_or_method",
    "instance",
    "_Feature"
   ],
   "window_display": false
  }
 },
 "nbformat": 4,
 "nbformat_minor": 5
}
