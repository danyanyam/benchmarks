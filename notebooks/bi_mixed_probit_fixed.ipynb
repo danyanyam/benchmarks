{
 "cells": [
  {
   "cell_type": "markdown",
   "id": "9e5a1224",
   "metadata": {},
   "source": [
    "### Problem statement"
   ]
  },
  {
   "cell_type": "markdown",
   "id": "82e638df",
   "metadata": {},
   "source": [
    "*N.B. All of the expectations below are conditional on x*\n",
    "\n",
    "\n",
    "Taste variation:  $ \\beta_n \\sim \\mathcal{N}(b, W)$. This model specification allows to estimate $b, W$. More on notation: $x_{nj} = (\\textbf{x}_{n}, \\textbf{a}_{j}) \\in \\mathbb{R}^k$ is vector of individual $n$'s specific parameters (ex. age, income, marriage status, ...) and alternative $j$'s specific parameters (a collection of offered characteristics ex. number of cucumbers in recepy, ...). Model assumes that person $n$ makes only one choice between alternatives, thats why each person, when deciding his binary choice, compares only two numbers $U_{n1}$ vs $U_{n2}$ and for that reason $j\\in \\{0, 1\\}$. We will assume the following utility structure:\n",
    "\n",
    "Each agent's $n$ utility is:\n",
    "$$ \\begin{cases}\n",
    "U_{n0} = 0 \\\\\n",
    "U_{n1} = \\beta_{n}'x_{n1} + \\varepsilon_{n1} \\end{cases} $$\n",
    "That is, utility of accepting alternative $0$ doesnt bring any utility, whereas utility of accepting the first alternative may be positive or negative, depending on tastes $\\beta_{n}'$ and shock $\\varepsilon_{n1}$. It is also woth saying beforehand that $\\beta_{n} \\in \\mathbb{R}^{k}$. \n",
    "\n",
    "Now lets outline once again what we want to estimate. First of all we are interested in populational parameters of tastes, or $b, W$ from assumed distribution of parameters:\n",
    "$$  \\beta_n \\sim \\mathcal{N}(b, W) = \n",
    "\\mathcal{N}\\begin{pmatrix}\n",
    "\\begin{pmatrix}\n",
    "b_1 \\\\ \\vdots \\\\ b_k\n",
    "\\end{pmatrix},\n",
    "\\begin{pmatrix}\n",
    "\\sigma_{b_1, b_1} & \\dots & \\sigma_{b_1, b_k}\\\\\n",
    "\\dots & \\dots & \\dots \\\\\n",
    "\\sigma_{b_k, b_1} & \\dots & \\sigma_{b_k, b_k}\n",
    "\\end{pmatrix}\n",
    "\\end{pmatrix} $$\n",
    "So for $k$ factors and $n$ agents we would like to estimate $b\\in \\mathbb{R}^k$ and $W\\in \\mathbb{R}^{k \\times k}$ which contains $ k + 1/2 (k^2 - k) $ unique covariates.\n",
    "\n"
   ]
  },
  {
   "cell_type": "markdown",
   "id": "d494c817",
   "metadata": {},
   "source": [
    "### Defining choice probability"
   ]
  },
  {
   "cell_type": "markdown",
   "id": "b4826f35",
   "metadata": {},
   "source": [
    "We start by defining that agent $n$ will choose alternative $1$ over alternative $0$ only when $P(U_{n1} > U_{n0}) = P(\\beta_n'x_{n1} + \\varepsilon_{n1} > 0)$. We might tempt to state that it follows that $P(U_{n1} > U_{n0}) = 1 - \\Phi\\left( -\\beta'_nx_{n1} \\right)$, but lets not forget, that $\\beta'_n$ is a random vector with density function $\\phi(\\beta | \\theta)$, where $\\theta = (b, W)$, so it is more precise to say that\n",
    "\n",
    "$$ P(U_{n1} > U_{n0}| \\theta) = \\int P(\\beta'_n x_{n1} + \\varepsilon_{n1} > 0| \\beta_n' = \\beta) g(\\beta | \\theta) d\\beta $$"
   ]
  },
  {
   "cell_type": "markdown",
   "id": "d0f92801",
   "metadata": {},
   "source": [
    "And by inserting what we have, we obtain the following:\n",
    "\n",
    "$$ \\begin{aligned}\n",
    "P(U_{n1} > U_{n0}| \\theta)  = &\\int P( \\varepsilon_{n1} > -\\beta' x_{n1} | \\beta) g(\\beta | \\theta) d\\beta  =\\\\ &\\int \\left( 1 - \\Phi(-\\beta'x_{n1}) \\right) g(\\beta | \\theta) d\\beta  =\\\\\n",
    " &\\int \\left( 1 - \\Phi(-\\beta'x_{n1}) \\right) \\frac{1}{(2\\pi)^{k/2}|W|^{1/2}}e^{-1/2(\\beta - b)'W^{-1}(\\beta - b) }\n",
    " d\\beta =\n",
    "\\end{aligned}$$"
   ]
  },
  {
   "cell_type": "markdown",
   "id": "4f298ff7",
   "metadata": {},
   "source": [
    "### Estimation"
   ]
  },
  {
   "cell_type": "markdown",
   "id": "c8834c58",
   "metadata": {},
   "source": [
    "In words: given parameters $\\theta = (b, W)$ the probability of choosing first alternative over the zeroth can be calculated with estimation of the integral above. Be aware, that we will further need to find estimation $\\hat\\theta$ of $\\theta$ which is maximum likelihood over all of the agents in the economy, so the difficulties are only beginning:\n",
    "$$\n",
    "L(q) = \\prod_{n = 1}^{N} P(U_{n1} > U_{n0}| q)^{y_n} \\left(1 - P(U_{n1} > U_{n0}| q)\\right)^{1 - y_n}\n",
    "$$\n",
    "where $q = (\\hat{b}, \\hat{W}) $ is estimator of $\\theta = (b, W)$ and $y_n \\in \\{0 , 1\\}$ is $n$ agent's choice. And by inserting definition of probability we obtain:\n",
    "$$\n",
    "L(\\hat{b}, \\hat{W}) = \\prod_{n = 1}^{N}\n",
    "\\left[\\int \\left( 1 - \\Phi(-\\beta'x_{n1}) \\right) \\frac{1}{(2\\pi)^{k/2}|\\hat{W}|^{1/2}}e^{-1/2(\\beta - \\hat{b})'\\hat{W}^{-1}(\\beta - \\hat{b})}d\\beta \\right]^{y_n}\n",
    "\\left[1 - \\int \\left( 1 - \\Phi(-\\beta'x_{n1}) \\right) \\frac{1}{(2\\pi)^{k/2}|\\hat{W}|^{1/2}}e^{-1/2(\\beta - \\hat{b})'\\hat{W}^{-1}(\\beta - \\hat{b})}d\\beta \\right]^{1 - y_n}\n",
    "$$\n",
    "We could try to maximize this likelihood function, but there is workouround, proposed by Kenneth Train, which simplifies the problem."
   ]
  },
  {
   "cell_type": "markdown",
   "id": "a73c19cd",
   "metadata": {},
   "source": [
    "### Workaround"
   ]
  },
  {
   "cell_type": "markdown",
   "id": "d41cfa87",
   "metadata": {},
   "source": [
    "*Train* suggests to rewrite utility as follows:\n",
    " $ U_{nj} = b'x_{nj} + \\tilde{\\beta}_n'x_{nj} + \\varepsilon_{nj} $, where $\\tilde{\\beta}_n = \\beta_n - b$. Let $ \\eta_{nj} =\\tilde{\\beta}_n'x_{nj} + \\varepsilon_{nj} $ and we obtain new system of utilities:\n",
    "$$\\begin{cases} U_{n0} = 0\\\\ U_{n1} = b'x_{n1} + \\eta_{n1} \n",
    " \\end{cases} $$\n"
   ]
  },
  {
   "cell_type": "markdown",
   "id": "d79207f4",
   "metadata": {},
   "source": [
    "Thus, $ P(U_{n1} > U_{n0}| \\theta) = P(b'x_{n1} + \\eta_{n1} > 0 | \\theta) = 1 - P(\\eta_{n1} \\le -b'x_{n1}| \\theta)$. Note that now taste parameter is not a random vector, it is a constant, which is parametrically defined. Now we must find distribution of $\\eta_{n1}$. The distribution of $\\eta_{n1}$ is normal since it is linear combination of normal random variables. Lets find out its parameters. Firstly:\n",
    "$$\\mathbb{E}[\\eta_{n1} ] = \\mathbb{E}[\\tilde{\\beta}_n'x_{n1} + \\varepsilon_{n1}] = \\mathbb{E}[(\\beta_n-b)'x_{n1} + \\varepsilon_{n1} | x_{n1}] = \\mathbb{E}[(\\beta_n-b)]'x_{n1} + \\mathbb{E}[\\varepsilon_{n1}] = 0\n",
    "$$\n",
    "Secondly:\n",
    "$$ \n",
    "\\mathbb{V}(\\eta_{n1}) = \\mathbb{V}\\left[ \\tilde{\\beta}_n'x_{n1} + \\varepsilon_{n1} \\right] =\n",
    "\\mathbb{E}\\left[ (\\tilde{\\beta}_n'x_{n1} + \\varepsilon_{n1})(\\tilde{\\beta}_n'x_{n1} + \\varepsilon_{n1})' \\right] = \n",
    "\\mathbb{E}\\left[\\tilde{\\beta}_n'x_{n1} x_{n1}'\\tilde{\\beta}_n + \\tilde{\\beta}_n'x_{n1}\\varepsilon_{n1}' +\n",
    "\\varepsilon_{n1}x_{n1}'\\tilde{\\beta}_n + \\varepsilon_{n1}\\varepsilon_{n1}'\n",
    "\\right]\n",
    "= \\mathbb{E}\\left[\\tilde{\\beta}_n'x_{n1} x_{n1}'\\tilde{\\beta}_n \\right] + \\sigma^2_{\\varepsilon_{n1}}\n",
    "$$\n",
    "More algebra:\n",
    "$$ \n",
    "\\mathbb{E}\\left[\\tilde{\\beta}_n'x_{n1} x_{n1}'\\tilde{\\beta}_n \\right] = \n",
    "\\mathbb{E}\\left[ \\beta'_n x_{n1}x_{n1}'\\beta_{n} - \\beta'_n x_{n1}x_{n1}'b - b'x_{n1}x_{n1}'\\beta_n + b'x_{n1}x_{n1}'b \\right] = \n",
    "\\mathbb{E} \\left[ \\beta'_n x_{n1}x_{n1}'\\beta_{n} \\right] - b'x_{n1}x_{n1}'b\n",
    "$$\n",
    "Therefore,\n",
    "$$ \\mathbb{V} (\\eta_{n1}) = \\mathbb{E} \\left[ \\beta'_n x_{n1}x_{n1}'\\beta_{n} \\right] - b'x_{n1}x_{n1}'b + \\sigma^2_{\\varepsilon_{n1}}\n",
    "$$\n"
   ]
  },
  {
   "cell_type": "markdown",
   "id": "672abdc0",
   "metadata": {},
   "source": [
    "It is important that both expectation and variance are scalars. We can move to scalar form to obtain:\n",
    "$$ \n",
    "\\begin{aligned}\n",
    "\\mathbb{V} (\\eta_{n1}) &= \\sum_{i=1}^{k}\\sum_{j=1}^{k}\\left(\\mathbb{E}[\\beta_{ni}\\beta_{nj}]x_{n1i}x_{n1j}\\right) - \\sum_{i=1}^{k}\\sum_{j=1}^{k}\\left(b_{ni} b_{nj}x_{n1i}x_{n1j}\\right) + \\sigma^2_{\\varepsilon_{n1}} =\\\\\n",
    "&=\\sum_{i=1}^{k}\\sum_{j=1}^{k} (\\mathbb{E}[\\beta_{ni}\\beta_{nj}] - b_{ni}b_{nj})x_{n1i}x_{n1j} + \\sigma^2_{\\varepsilon_{n1}} \\\\ \n",
    "&=\\sum_{i=1}^{k}\\sum_{j=1}^{k} \\text{Cov}(\\beta_{ni}, \\beta_{nj})x_{n1i}x_{n1j} + \\sigma^2_{\\varepsilon_{n1}} \n",
    "\\end{aligned}\n",
    "$$\n",
    "Then, Train suggests to scale $\\sigma^2_{\\varepsilon_{n1}} = 1$ to impose utility scale invariance. Thus we get:\n",
    "$$\n",
    "\\eta_{n1} \\sim \\mathcal{N}\\left(0, \\sum_{i=1}^{k}\\sum_{j=1}^{k} \\text{Cov}(\\beta_{ni}, \\beta_{nj})x_{n1i}x_{n1j} + 1 \\right) = \\mathcal{N} \\left( 0, \\mathbb{E} \\left[ \\beta'_n x_{n1}x_{n1}'\\beta_{n} \\right] - b'x_{n1}x_{n1}'b + 1\\right)\n",
    "$$"
   ]
  },
  {
   "cell_type": "markdown",
   "id": "1ef72e99",
   "metadata": {},
   "source": [
    "### Defining choice probability"
   ]
  },
  {
   "cell_type": "markdown",
   "id": "a8106752",
   "metadata": {},
   "source": [
    "Now we may come back to defining choice probability as follows:\n",
    "$$\n",
    "P(U_{n1} > U_{n0}| \\theta) = P(b'x_{n1} + \\eta_{n1} > 0 | \\theta) = 1 - P(\\eta_{n1} \\le -b'x_{n1}| \\theta) = \n",
    "1 - \\Phi \\left( \\left.\\frac{-b'x_{n1}}{\\sqrt{\\mathbb{E} \\left[ \\beta'_n x_{n1}x_{n1}'\\beta_{n} \\right] - b'x_{n1}x_{n1}'b + 1}} \\right\\vert \\theta \\right)\n",
    "$$"
   ]
  },
  {
   "cell_type": "markdown",
   "id": "7ff36026",
   "metadata": {},
   "source": [
    "for clarity we will replace vector multiplication to the scalar one:\n",
    "$$\n",
    "P(U_{n1} > U_{n0}| \\theta) = 1 - \\Phi \\left( \\left.\\frac{-b'x_{n1}}{\\sqrt{\\sum_{i=1}^{k}\\sum_{j=1}^{k} \\text{Cov}(\\beta_{ni}, \\beta_{nj})x_{n1i}x_{n1j} + 1}} \\right\\vert \\theta \\right)\n",
    "$$\n"
   ]
  },
  {
   "cell_type": "markdown",
   "id": "17d95866",
   "metadata": {},
   "source": [
    "Note, how given parameter is expressed in the probability formula: theta consist of $b$ and $W$. Elements of $b$ are presented in the numerator and elements of $W$ are presented as covariance in the denumerator. We treat all of the parameters as given."
   ]
  },
  {
   "cell_type": "markdown",
   "id": "4b90bda8",
   "metadata": {},
   "source": [
    "### Estimation"
   ]
  },
  {
   "cell_type": "markdown",
   "id": "2463c9d2",
   "metadata": {},
   "source": [
    "Now lets obtain the likelihood function:\n",
    "$$\n",
    "\\begin{aligned}\n",
    "L(q) &= \\prod_{n = 1}^{N} P(U_{n1} > U_{n0}| q)^{y_n} \\left(1 - P(U_{n1} > U_{n0}| q)\\right)^{1 - y_n}= \\\\ \n",
    "&= \\prod_{n=1}^{N} \\left[ 1 - \\Phi \\left( \\left.\\frac{-\\hat{b}'x_{n1}}{\\sqrt{\\sum_{i=1}^{k}\\sum_{j=1}^{k} \\hat{\\text{Cov}}(\\beta_{ni}, \\beta_{nj})x_{n1i}x_{n1j} + 1}} \\right\\vert q \\right) \\right]^{y_n}\n",
    "\\left[ \n",
    "\\Phi \\left( \\left.\\frac{-\\hat{b}'x_{n1}}{\\sqrt{\\sum_{i=1}^{k}\\sum_{j=1}^{k} \\hat{\\text{Cov}}(\\beta_{ni}, \\beta_{nj})x_{n1i}x_{n1j} + 1}} \\right\\vert q \\right)\n",
    "\\right]^{1 - y_n}\n",
    "\\end{aligned}\n",
    "$$\n"
   ]
  },
  {
   "cell_type": "markdown",
   "id": "57d76b52",
   "metadata": {},
   "source": [
    "Which is should be maximized with respect to vector $q = (\\hat{b}, \\hat{W})$"
   ]
  }
 ],
 "metadata": {
  "kernelspec": {
   "display_name": "Python 3 (ipykernel)",
   "language": "python",
   "name": "python3"
  },
  "language_info": {
   "codemirror_mode": {
    "name": "ipython",
    "version": 3
   },
   "file_extension": ".py",
   "mimetype": "text/x-python",
   "name": "python",
   "nbconvert_exporter": "python",
   "pygments_lexer": "ipython3",
   "version": "3.9.6"
  },
  "varInspector": {
   "cols": {
    "lenName": 16,
    "lenType": 16,
    "lenVar": 40
   },
   "kernels_config": {
    "python": {
     "delete_cmd_postfix": "",
     "delete_cmd_prefix": "del ",
     "library": "var_list.py",
     "varRefreshCmd": "print(var_dic_list())"
    },
    "r": {
     "delete_cmd_postfix": ") ",
     "delete_cmd_prefix": "rm(",
     "library": "var_list.r",
     "varRefreshCmd": "cat(var_dic_list()) "
    }
   },
   "types_to_exclude": [
    "module",
    "function",
    "builtin_function_or_method",
    "instance",
    "_Feature"
   ],
   "window_display": false
  }
 },
 "nbformat": 4,
 "nbformat_minor": 5
}
